{
 "cells": [
  {
   "cell_type": "markdown",
   "id": "c51840be",
   "metadata": {},
   "source": [
    "# 금융기관의 AI 빅데이터 분석 Final Report\n",
    "### M81333 이다인, M81354 최윤주\n",
    "---\n",
    "첨부 : 제출자료 보충자료(과제코드)"
   ]
  },
  {
   "cell_type": "markdown",
   "id": "149624cb",
   "metadata": {},
   "source": [
    "## Import library"
   ]
  },
  {
   "cell_type": "code",
   "execution_count": 1,
   "id": "0874ca38",
   "metadata": {},
   "outputs": [
    {
     "name": "stderr",
     "output_type": "stream",
     "text": [
      "C:\\Users\\happy\\Anaconda3\\lib\\site-packages\\numpy\\_distributor_init.py:30: UserWarning: loaded more than 1 DLL from .libs:\n",
      "C:\\Users\\happy\\Anaconda3\\lib\\site-packages\\numpy\\.libs\\libopenblas.PYQHXLVVQ7VESDPUVUADXEVJOBGHJPAY.gfortran-win_amd64.dll\n",
      "C:\\Users\\happy\\Anaconda3\\lib\\site-packages\\numpy\\.libs\\libopenblas.XWYDX2IKJW2NMTWSFYNGFUWKQU3LYTCZ.gfortran-win_amd64.dll\n",
      "  warnings.warn(\"loaded more than 1 DLL from .libs:\"\n"
     ]
    }
   ],
   "source": [
    "import numpy as np\n",
    "import pandas as pd\n",
    "\n",
    "# 시각화\n",
    "import matplotlib.pyplot as plt\n",
    "import seaborn as sns; sns.set()\n",
    "\n",
    "# 경고제거\n",
    "import warnings\n",
    "warnings.filterwarnings('ignore')"
   ]
  },
  {
   "cell_type": "code",
   "execution_count": 2,
   "id": "9cd13634",
   "metadata": {},
   "outputs": [],
   "source": [
    "# 모델설명 툴\n",
    "from sklearn.tree import export_graphviz\n",
    "from sklearn.metrics import roc_curve, auc\n",
    "from sklearn.metrics import classification_report, confusion_matrix\n",
    "from sklearn.metrics import precision_score, recall_score, f1_score\n",
    "from sklearn.metrics import mean_squared_error,accuracy_score\n",
    "from sklearn.model_selection import KFold, cross_val_score, GridSearchCV\n",
    "\n",
    "# 모델링(분류)\n",
    "from sklearn.neighbors import KNeighborsClassifier\n",
    "from sklearn.tree import DecisionTreeClassifier\n",
    "from sklearn.ensemble import RandomForestClassifier,GradientBoostingClassifier\n",
    "from sklearn.ensemble import AdaBoostClassifier,ExtraTreesClassifier\n",
    "from catboost import CatBoostClassifier\n",
    "from sklearn.svm import SVC\n",
    "import lightgbm as lgbm"
   ]
  },
  {
   "cell_type": "markdown",
   "id": "b5207cde",
   "metadata": {},
   "source": [
    "## Read Data "
   ]
  },
  {
   "cell_type": "code",
   "execution_count": 3,
   "id": "251d1b64",
   "metadata": {},
   "outputs": [],
   "source": [
    "data = pd.read_csv('UniversalBank.csv')"
   ]
  },
  {
   "cell_type": "code",
   "execution_count": 4,
   "id": "516e67fd",
   "metadata": {},
   "outputs": [
    {
     "data": {
      "text/html": [
       "<div>\n",
       "<style scoped>\n",
       "    .dataframe tbody tr th:only-of-type {\n",
       "        vertical-align: middle;\n",
       "    }\n",
       "\n",
       "    .dataframe tbody tr th {\n",
       "        vertical-align: top;\n",
       "    }\n",
       "\n",
       "    .dataframe thead th {\n",
       "        text-align: right;\n",
       "    }\n",
       "</style>\n",
       "<table border=\"1\" class=\"dataframe\">\n",
       "  <thead>\n",
       "    <tr style=\"text-align: right;\">\n",
       "      <th></th>\n",
       "      <th>ID</th>\n",
       "      <th>Age</th>\n",
       "      <th>Experience</th>\n",
       "      <th>Income</th>\n",
       "      <th>ZIP Code</th>\n",
       "      <th>Family</th>\n",
       "      <th>CCAvg</th>\n",
       "      <th>Education</th>\n",
       "      <th>Mortgage</th>\n",
       "      <th>Securities Account</th>\n",
       "      <th>CD Account</th>\n",
       "      <th>Online</th>\n",
       "      <th>CreditCard</th>\n",
       "      <th>Personal Loan</th>\n",
       "    </tr>\n",
       "  </thead>\n",
       "  <tbody>\n",
       "    <tr>\n",
       "      <th>0</th>\n",
       "      <td>1</td>\n",
       "      <td>25</td>\n",
       "      <td>1</td>\n",
       "      <td>49</td>\n",
       "      <td>91107</td>\n",
       "      <td>4</td>\n",
       "      <td>1.6</td>\n",
       "      <td>1</td>\n",
       "      <td>0</td>\n",
       "      <td>1</td>\n",
       "      <td>0</td>\n",
       "      <td>0</td>\n",
       "      <td>0</td>\n",
       "      <td>0</td>\n",
       "    </tr>\n",
       "    <tr>\n",
       "      <th>1</th>\n",
       "      <td>2</td>\n",
       "      <td>45</td>\n",
       "      <td>19</td>\n",
       "      <td>34</td>\n",
       "      <td>90089</td>\n",
       "      <td>3</td>\n",
       "      <td>1.5</td>\n",
       "      <td>1</td>\n",
       "      <td>0</td>\n",
       "      <td>1</td>\n",
       "      <td>0</td>\n",
       "      <td>0</td>\n",
       "      <td>0</td>\n",
       "      <td>0</td>\n",
       "    </tr>\n",
       "  </tbody>\n",
       "</table>\n",
       "</div>"
      ],
      "text/plain": [
       "   ID  Age  Experience  Income  ZIP Code  Family  CCAvg  Education  Mortgage  \\\n",
       "0   1   25           1      49     91107       4    1.6          1         0   \n",
       "1   2   45          19      34     90089       3    1.5          1         0   \n",
       "\n",
       "   Securities Account  CD Account  Online  CreditCard  Personal Loan  \n",
       "0                   1           0       0           0              0  \n",
       "1                   1           0       0           0              0  "
      ]
     },
     "execution_count": 4,
     "metadata": {},
     "output_type": "execute_result"
    }
   ],
   "source": [
    "data.head(2)"
   ]
  },
  {
   "cell_type": "code",
   "execution_count": 5,
   "id": "533f6f4f",
   "metadata": {},
   "outputs": [
    {
     "data": {
      "text/plain": [
       "(5000, 14)"
      ]
     },
     "execution_count": 5,
     "metadata": {},
     "output_type": "execute_result"
    }
   ],
   "source": [
    "#총 14개 feature, 5천개 data\n",
    "data.shape"
   ]
  },
  {
   "cell_type": "code",
   "execution_count": 6,
   "id": "7a760453",
   "metadata": {},
   "outputs": [
    {
     "data": {
      "text/html": [
       "<div>\n",
       "<style scoped>\n",
       "    .dataframe tbody tr th:only-of-type {\n",
       "        vertical-align: middle;\n",
       "    }\n",
       "\n",
       "    .dataframe tbody tr th {\n",
       "        vertical-align: top;\n",
       "    }\n",
       "\n",
       "    .dataframe thead th {\n",
       "        text-align: right;\n",
       "    }\n",
       "</style>\n",
       "<table border=\"1\" class=\"dataframe\">\n",
       "  <thead>\n",
       "    <tr style=\"text-align: right;\">\n",
       "      <th></th>\n",
       "      <th>0</th>\n",
       "      <th>1</th>\n",
       "      <th>2</th>\n",
       "      <th>3</th>\n",
       "      <th>4</th>\n",
       "      <th>5</th>\n",
       "      <th>6</th>\n",
       "      <th>7</th>\n",
       "      <th>8</th>\n",
       "      <th>9</th>\n",
       "      <th>10</th>\n",
       "      <th>11</th>\n",
       "      <th>12</th>\n",
       "      <th>13</th>\n",
       "    </tr>\n",
       "  </thead>\n",
       "  <tbody>\n",
       "    <tr>\n",
       "      <th>index</th>\n",
       "      <td>ID</td>\n",
       "      <td>Age</td>\n",
       "      <td>Experience</td>\n",
       "      <td>Income</td>\n",
       "      <td>ZIP Code</td>\n",
       "      <td>Family</td>\n",
       "      <td>CCAvg</td>\n",
       "      <td>Education</td>\n",
       "      <td>Mortgage</td>\n",
       "      <td>Securities Account</td>\n",
       "      <td>CD Account</td>\n",
       "      <td>Online</td>\n",
       "      <td>CreditCard</td>\n",
       "      <td>Personal Loan</td>\n",
       "    </tr>\n",
       "    <tr>\n",
       "      <th>0</th>\n",
       "      <td>0</td>\n",
       "      <td>0</td>\n",
       "      <td>0</td>\n",
       "      <td>0</td>\n",
       "      <td>0</td>\n",
       "      <td>0</td>\n",
       "      <td>0</td>\n",
       "      <td>0</td>\n",
       "      <td>0</td>\n",
       "      <td>0</td>\n",
       "      <td>0</td>\n",
       "      <td>0</td>\n",
       "      <td>0</td>\n",
       "      <td>0</td>\n",
       "    </tr>\n",
       "  </tbody>\n",
       "</table>\n",
       "</div>"
      ],
      "text/plain": [
       "       0    1           2       3         4       5      6          7   \\\n",
       "index  ID  Age  Experience  Income  ZIP Code  Family  CCAvg  Education   \n",
       "0       0    0           0       0         0       0      0          0   \n",
       "\n",
       "             8                   9           10      11          12  \\\n",
       "index  Mortgage  Securities Account  CD Account  Online  CreditCard   \n",
       "0             0                   0           0       0           0   \n",
       "\n",
       "                  13  \n",
       "index  Personal Loan  \n",
       "0                  0  "
      ]
     },
     "execution_count": 6,
     "metadata": {},
     "output_type": "execute_result"
    }
   ],
   "source": [
    "#결측치 없음\n",
    "data.isnull().sum().reset_index().T"
   ]
  },
  {
   "cell_type": "code",
   "execution_count": 7,
   "id": "436f9e66",
   "metadata": {},
   "outputs": [
    {
     "data": {
      "text/plain": [
       "ID                      int64\n",
       "Age                     int64\n",
       "Experience              int64\n",
       "Income                  int64\n",
       "ZIP Code                int64\n",
       "Family                  int64\n",
       "CCAvg                 float64\n",
       "Education               int64\n",
       "Mortgage                int64\n",
       "Securities Account      int64\n",
       "CD Account              int64\n",
       "Online                  int64\n",
       "CreditCard              int64\n",
       "Personal Loan           int64\n",
       "dtype: object"
      ]
     },
     "execution_count": 7,
     "metadata": {},
     "output_type": "execute_result"
    }
   ],
   "source": [
    "# 모델링을 하기 위해 type 확인\n",
    "data.dtypes"
   ]
  },
  {
   "cell_type": "code",
   "execution_count": 8,
   "id": "02dcc8b9",
   "metadata": {},
   "outputs": [
    {
     "data": {
      "text/html": [
       "<div>\n",
       "<style scoped>\n",
       "    .dataframe tbody tr th:only-of-type {\n",
       "        vertical-align: middle;\n",
       "    }\n",
       "\n",
       "    .dataframe tbody tr th {\n",
       "        vertical-align: top;\n",
       "    }\n",
       "\n",
       "    .dataframe thead th {\n",
       "        text-align: right;\n",
       "    }\n",
       "</style>\n",
       "<table border=\"1\" class=\"dataframe\">\n",
       "  <thead>\n",
       "    <tr style=\"text-align: right;\">\n",
       "      <th></th>\n",
       "      <th>count</th>\n",
       "      <th>mean</th>\n",
       "      <th>std</th>\n",
       "      <th>min</th>\n",
       "      <th>25%</th>\n",
       "      <th>50%</th>\n",
       "      <th>75%</th>\n",
       "      <th>max</th>\n",
       "    </tr>\n",
       "  </thead>\n",
       "  <tbody>\n",
       "    <tr>\n",
       "      <th>ID</th>\n",
       "      <td>5000.0</td>\n",
       "      <td>2500.500000</td>\n",
       "      <td>1443.520003</td>\n",
       "      <td>1.0</td>\n",
       "      <td>1250.75</td>\n",
       "      <td>2500.5</td>\n",
       "      <td>3750.25</td>\n",
       "      <td>5000.0</td>\n",
       "    </tr>\n",
       "    <tr>\n",
       "      <th>Age</th>\n",
       "      <td>5000.0</td>\n",
       "      <td>45.338400</td>\n",
       "      <td>11.463166</td>\n",
       "      <td>23.0</td>\n",
       "      <td>35.00</td>\n",
       "      <td>45.0</td>\n",
       "      <td>55.00</td>\n",
       "      <td>67.0</td>\n",
       "    </tr>\n",
       "    <tr>\n",
       "      <th>Experience</th>\n",
       "      <td>5000.0</td>\n",
       "      <td>20.104600</td>\n",
       "      <td>11.467954</td>\n",
       "      <td>-3.0</td>\n",
       "      <td>10.00</td>\n",
       "      <td>20.0</td>\n",
       "      <td>30.00</td>\n",
       "      <td>43.0</td>\n",
       "    </tr>\n",
       "    <tr>\n",
       "      <th>Income</th>\n",
       "      <td>5000.0</td>\n",
       "      <td>73.774200</td>\n",
       "      <td>46.033729</td>\n",
       "      <td>8.0</td>\n",
       "      <td>39.00</td>\n",
       "      <td>64.0</td>\n",
       "      <td>98.00</td>\n",
       "      <td>224.0</td>\n",
       "    </tr>\n",
       "    <tr>\n",
       "      <th>ZIP Code</th>\n",
       "      <td>5000.0</td>\n",
       "      <td>93152.503000</td>\n",
       "      <td>2121.852197</td>\n",
       "      <td>9307.0</td>\n",
       "      <td>91911.00</td>\n",
       "      <td>93437.0</td>\n",
       "      <td>94608.00</td>\n",
       "      <td>96651.0</td>\n",
       "    </tr>\n",
       "    <tr>\n",
       "      <th>Family</th>\n",
       "      <td>5000.0</td>\n",
       "      <td>2.396400</td>\n",
       "      <td>1.147663</td>\n",
       "      <td>1.0</td>\n",
       "      <td>1.00</td>\n",
       "      <td>2.0</td>\n",
       "      <td>3.00</td>\n",
       "      <td>4.0</td>\n",
       "    </tr>\n",
       "    <tr>\n",
       "      <th>CCAvg</th>\n",
       "      <td>5000.0</td>\n",
       "      <td>1.937938</td>\n",
       "      <td>1.747659</td>\n",
       "      <td>0.0</td>\n",
       "      <td>0.70</td>\n",
       "      <td>1.5</td>\n",
       "      <td>2.50</td>\n",
       "      <td>10.0</td>\n",
       "    </tr>\n",
       "    <tr>\n",
       "      <th>Education</th>\n",
       "      <td>5000.0</td>\n",
       "      <td>1.881000</td>\n",
       "      <td>0.839869</td>\n",
       "      <td>1.0</td>\n",
       "      <td>1.00</td>\n",
       "      <td>2.0</td>\n",
       "      <td>3.00</td>\n",
       "      <td>3.0</td>\n",
       "    </tr>\n",
       "    <tr>\n",
       "      <th>Mortgage</th>\n",
       "      <td>5000.0</td>\n",
       "      <td>56.498800</td>\n",
       "      <td>101.713802</td>\n",
       "      <td>0.0</td>\n",
       "      <td>0.00</td>\n",
       "      <td>0.0</td>\n",
       "      <td>101.00</td>\n",
       "      <td>635.0</td>\n",
       "    </tr>\n",
       "    <tr>\n",
       "      <th>Securities Account</th>\n",
       "      <td>5000.0</td>\n",
       "      <td>0.104400</td>\n",
       "      <td>0.305809</td>\n",
       "      <td>0.0</td>\n",
       "      <td>0.00</td>\n",
       "      <td>0.0</td>\n",
       "      <td>0.00</td>\n",
       "      <td>1.0</td>\n",
       "    </tr>\n",
       "    <tr>\n",
       "      <th>CD Account</th>\n",
       "      <td>5000.0</td>\n",
       "      <td>0.060400</td>\n",
       "      <td>0.238250</td>\n",
       "      <td>0.0</td>\n",
       "      <td>0.00</td>\n",
       "      <td>0.0</td>\n",
       "      <td>0.00</td>\n",
       "      <td>1.0</td>\n",
       "    </tr>\n",
       "    <tr>\n",
       "      <th>Online</th>\n",
       "      <td>5000.0</td>\n",
       "      <td>0.596800</td>\n",
       "      <td>0.490589</td>\n",
       "      <td>0.0</td>\n",
       "      <td>0.00</td>\n",
       "      <td>1.0</td>\n",
       "      <td>1.00</td>\n",
       "      <td>1.0</td>\n",
       "    </tr>\n",
       "    <tr>\n",
       "      <th>CreditCard</th>\n",
       "      <td>5000.0</td>\n",
       "      <td>0.294000</td>\n",
       "      <td>0.455637</td>\n",
       "      <td>0.0</td>\n",
       "      <td>0.00</td>\n",
       "      <td>0.0</td>\n",
       "      <td>1.00</td>\n",
       "      <td>1.0</td>\n",
       "    </tr>\n",
       "    <tr>\n",
       "      <th>Personal Loan</th>\n",
       "      <td>5000.0</td>\n",
       "      <td>0.096000</td>\n",
       "      <td>0.294621</td>\n",
       "      <td>0.0</td>\n",
       "      <td>0.00</td>\n",
       "      <td>0.0</td>\n",
       "      <td>0.00</td>\n",
       "      <td>1.0</td>\n",
       "    </tr>\n",
       "  </tbody>\n",
       "</table>\n",
       "</div>"
      ],
      "text/plain": [
       "                     count          mean          std     min       25%  \\\n",
       "ID                  5000.0   2500.500000  1443.520003     1.0   1250.75   \n",
       "Age                 5000.0     45.338400    11.463166    23.0     35.00   \n",
       "Experience          5000.0     20.104600    11.467954    -3.0     10.00   \n",
       "Income              5000.0     73.774200    46.033729     8.0     39.00   \n",
       "ZIP Code            5000.0  93152.503000  2121.852197  9307.0  91911.00   \n",
       "Family              5000.0      2.396400     1.147663     1.0      1.00   \n",
       "CCAvg               5000.0      1.937938     1.747659     0.0      0.70   \n",
       "Education           5000.0      1.881000     0.839869     1.0      1.00   \n",
       "Mortgage            5000.0     56.498800   101.713802     0.0      0.00   \n",
       "Securities Account  5000.0      0.104400     0.305809     0.0      0.00   \n",
       "CD Account          5000.0      0.060400     0.238250     0.0      0.00   \n",
       "Online              5000.0      0.596800     0.490589     0.0      0.00   \n",
       "CreditCard          5000.0      0.294000     0.455637     0.0      0.00   \n",
       "Personal Loan       5000.0      0.096000     0.294621     0.0      0.00   \n",
       "\n",
       "                        50%       75%      max  \n",
       "ID                   2500.5   3750.25   5000.0  \n",
       "Age                    45.0     55.00     67.0  \n",
       "Experience             20.0     30.00     43.0  \n",
       "Income                 64.0     98.00    224.0  \n",
       "ZIP Code            93437.0  94608.00  96651.0  \n",
       "Family                  2.0      3.00      4.0  \n",
       "CCAvg                   1.5      2.50     10.0  \n",
       "Education               2.0      3.00      3.0  \n",
       "Mortgage                0.0    101.00    635.0  \n",
       "Securities Account      0.0      0.00      1.0  \n",
       "CD Account              0.0      0.00      1.0  \n",
       "Online                  1.0      1.00      1.0  \n",
       "CreditCard              0.0      1.00      1.0  \n",
       "Personal Loan           0.0      0.00      1.0  "
      ]
     },
     "execution_count": 8,
     "metadata": {},
     "output_type": "execute_result"
    }
   ],
   "source": [
    "#통계수치 확인\n",
    "data.describe().T"
   ]
  },
  {
   "cell_type": "markdown",
   "id": "a875f9c7",
   "metadata": {},
   "source": [
    "## 1차 Preprocessing"
   ]
  },
  {
   "cell_type": "markdown",
   "id": "94c795dc",
   "metadata": {},
   "source": [
    "### ID, ZIP 제거"
   ]
  },
  {
   "cell_type": "code",
   "execution_count": 9,
   "id": "e308bacb",
   "metadata": {},
   "outputs": [],
   "source": [
    "# 불필요한 변수 drop  : 'ID' and 'ZIP Code'\n",
    "# 만약 inplace = true 를 쓰면 바로 덮어쓰기가 되긴 하다.(이 부분은 보고서 작성 시 삭제)\n",
    "data = data.drop([\"ID\",\"ZIP Code\"],axis=1)"
   ]
  },
  {
   "cell_type": "markdown",
   "id": "f0fed712",
   "metadata": {},
   "source": [
    "### Experience 이상치 제거"
   ]
  },
  {
   "cell_type": "code",
   "execution_count": 10,
   "id": "19c40226",
   "metadata": {},
   "outputs": [
    {
     "data": {
      "text/plain": [
       "-1    33\n",
       "-2    15\n",
       "-3     4\n",
       "Name: Experience, dtype: int64"
      ]
     },
     "execution_count": 10,
     "metadata": {},
     "output_type": "execute_result"
    }
   ],
   "source": [
    "# experience 이상치 확인\n",
    "data_m =data.loc[data[\"Experience\"]<0, ] \n",
    "data_m[\"Experience\"].value_counts()"
   ]
  },
  {
   "cell_type": "code",
   "execution_count": 11,
   "id": "4f7f5ab3",
   "metadata": {},
   "outputs": [
    {
     "data": {
      "text/html": [
       "<div>\n",
       "<style scoped>\n",
       "    .dataframe tbody tr th:only-of-type {\n",
       "        vertical-align: middle;\n",
       "    }\n",
       "\n",
       "    .dataframe tbody tr th {\n",
       "        vertical-align: top;\n",
       "    }\n",
       "\n",
       "    .dataframe thead th {\n",
       "        text-align: right;\n",
       "    }\n",
       "</style>\n",
       "<table border=\"1\" class=\"dataframe\">\n",
       "  <thead>\n",
       "    <tr style=\"text-align: right;\">\n",
       "      <th></th>\n",
       "      <th>index</th>\n",
       "      <th>Experience</th>\n",
       "    </tr>\n",
       "  </thead>\n",
       "  <tbody>\n",
       "    <tr>\n",
       "      <th>0</th>\n",
       "      <td>0</td>\n",
       "      <td>0.9896</td>\n",
       "    </tr>\n",
       "    <tr>\n",
       "      <th>1</th>\n",
       "      <td>1</td>\n",
       "      <td>0.0104</td>\n",
       "    </tr>\n",
       "  </tbody>\n",
       "</table>\n",
       "</div>"
      ],
      "text/plain": [
       "   index  Experience\n",
       "0      0      0.9896\n",
       "1      1      0.0104"
      ]
     },
     "execution_count": 11,
     "metadata": {},
     "output_type": "execute_result"
    }
   ],
   "source": [
    "#제거해도 될 정도인지, 비율 확인함 -> 1 프로로 제거해도 전체 사이즈에 크게 영향이 없는 수준\n",
    "is_exp_m =(data[\"Experience\"] < 0) + 0\n",
    "is_exp_m.value_counts(normalize=True).reset_index()"
   ]
  },
  {
   "cell_type": "code",
   "execution_count": 12,
   "id": "c7732765",
   "metadata": {},
   "outputs": [],
   "source": [
    "## 경험 이상치 제거\n",
    "data_m_index=data[data[\"Experience\"]<0].index\n",
    "data=data.drop(data_m_index)"
   ]
  },
  {
   "cell_type": "markdown",
   "id": "f12df93c",
   "metadata": {},
   "source": [
    "### 중복데이터 제거"
   ]
  },
  {
   "cell_type": "code",
   "execution_count": 13,
   "id": "df2dad4b",
   "metadata": {},
   "outputs": [],
   "source": [
    "# 중복데이터 삭제\n",
    "data=data.drop_duplicates()"
   ]
  },
  {
   "cell_type": "code",
   "execution_count": 14,
   "id": "bb5545e3",
   "metadata": {},
   "outputs": [
    {
     "data": {
      "text/plain": [
       "(4935, 12)"
      ]
     },
     "execution_count": 14,
     "metadata": {},
     "output_type": "execute_result"
    }
   ],
   "source": [
    "# 이상치 제거 이후 데이터 shape 총 4935\n",
    "data.shape"
   ]
  },
  {
   "cell_type": "markdown",
   "id": "9f95efd8",
   "metadata": {},
   "source": [
    "## EDA & 2차 preprocessiong"
   ]
  },
  {
   "cell_type": "code",
   "execution_count": 15,
   "id": "3e58ecb7",
   "metadata": {},
   "outputs": [],
   "source": [
    "# 데이터 확인 시 연속형과 범주형, Target 을 분류하여 부석\n",
    "x_cate_col = data[[\"Family\",\"Education\",\"Securities Account\",\"CD Account\",\"Online\",\"CreditCard\"]]\n",
    "y_cate_col = data[\"Personal Loan\"] "
   ]
  },
  {
   "cell_type": "markdown",
   "id": "56fd7eac",
   "metadata": {},
   "source": [
    "### 범주형 변수 확인"
   ]
  },
  {
   "cell_type": "code",
   "execution_count": 16,
   "id": "e910a72f",
   "metadata": {},
   "outputs": [
    {
     "data": {
      "image/png": "[encoded data removed]",
      "text/plain": [
       "<Figure size 720x1152 with 7 Axes>"
      ]
     },
     "metadata": {},
     "output_type": "display_data"
    }
   ],
   "source": [
    "# Making a list of all categorical variables\n",
    "cate_col = data[[\"Family\",\"Education\",\"Securities Account\",\"CD Account\",\"Online\",\"CreditCard\", \"Personal Loan\"]]\n",
    "title=['Number of Family','Education', 'Customer has Securities Account','Customers has a CD Account',\n",
    "       'Customers  who transcat Online', 'Customers who has Credit Card','Customers who took Personal Loan']\n",
    "\n",
    "plt.figure(figsize=(10,16))\n",
    "\n",
    "sns.set_theme(style=\"white\") \n",
    "\n",
    "for i, variable in enumerate(cate_col):\n",
    "                     plt.subplot(5,2,i+1)\n",
    "                     order = data[variable].value_counts(ascending=False).index   \n",
    "                     sns.set_palette('Set2')\n",
    "                     ax=sns.countplot(x=data[variable], data=data )\n",
    "                     sns.despine(top=True,right=True,left=True) \n",
    "                     for p in ax.patches:\n",
    "                           percentage = '{:.1f}%'.format(100 * p.get_height()/len(data[variable]))\n",
    "                           x = p.get_x() + p.get_width() / 2 - 0.05\n",
    "                           y = p.get_y() + p.get_height()\n",
    "                           plt.annotate(percentage, (x, y),ha='center')\n",
    "                     plt.tight_layout()\n",
    "                     plt.title(title[i].upper())"
   ]
  },
  {
   "cell_type": "markdown",
   "id": "19d49acf",
   "metadata": {},
   "source": [
    "#### Family"
   ]
  },
  {
   "cell_type": "code",
   "execution_count": 17,
   "id": "067c90e9",
   "metadata": {},
   "outputs": [
    {
     "data": {
      "image/png": "[encoded data removed]",
      "text/plain": [
       "<Figure size 432x288 with 1 Axes>"
      ]
     },
     "metadata": {},
     "output_type": "display_data"
    }
   ],
   "source": [
    "# 가족구성과 개인대출 시각화 \n",
    "plt.rcParams['figure.figsize'] = (6,4)\n",
    "dat = pd.crosstab(data['Personal Loan'], data['Family']) \n",
    "dat.div(dat.sum(1).astype(float), axis = 0).plot(kind = 'bar', \n",
    "                                                 stacked = False, \n",
    "                                                 color = plt.cm.rainbow(np.linspace(0, 1, 4)))\n",
    "plt.title('Relation of Family with Personal Loan', fontsize = 15, fontweight = 30)\n",
    "plt.show()"
   ]
  },
  {
   "cell_type": "markdown",
   "id": "3fd3d2e2",
   "metadata": {},
   "source": [
    "#### Education"
   ]
  },
  {
   "cell_type": "code",
   "execution_count": 18,
   "id": "4fd7743a",
   "metadata": {},
   "outputs": [
    {
     "data": {
      "image/png": "[encoded data removed]",
      "text/plain": [
       "<Figure size 432x288 with 1 Axes>"
      ]
     },
     "metadata": {},
     "output_type": "display_data"
    }
   ],
   "source": [
    "# 교육수준과 개인대출 시각화\n",
    "plt.rcParams['figure.figsize'] = (6,4)\n",
    "dat = pd.crosstab(data['Personal Loan'], data['Education']) \n",
    "dat.div(dat.sum(1).astype(float), axis = 0).plot(kind = 'bar', \n",
    "                                                 stacked = False, \n",
    "                                                 color = plt.cm.rainbow(np.linspace(0, 1, 4)))\n",
    "plt.title('Relation of Education with Personal Loan', fontsize = 15, fontweight = 30)\n",
    "plt.show()"
   ]
  },
  {
   "cell_type": "code",
   "execution_count": 19,
   "id": "5e519a9f",
   "metadata": {},
   "outputs": [
    {
     "data": {
      "text/html": [
       "<div>\n",
       "<style scoped>\n",
       "    .dataframe tbody tr th:only-of-type {\n",
       "        vertical-align: middle;\n",
       "    }\n",
       "\n",
       "    .dataframe tbody tr th {\n",
       "        vertical-align: top;\n",
       "    }\n",
       "\n",
       "    .dataframe thead th {\n",
       "        text-align: right;\n",
       "    }\n",
       "</style>\n",
       "<table border=\"1\" class=\"dataframe\">\n",
       "  <thead>\n",
       "    <tr style=\"text-align: right;\">\n",
       "      <th></th>\n",
       "      <th>number of people</th>\n",
       "      <th>Edu_Loan mean</th>\n",
       "    </tr>\n",
       "    <tr>\n",
       "      <th>Education</th>\n",
       "      <th></th>\n",
       "      <th></th>\n",
       "    </tr>\n",
       "  </thead>\n",
       "  <tbody>\n",
       "    <tr>\n",
       "      <th>1</th>\n",
       "      <td>2079</td>\n",
       "      <td>0.044733</td>\n",
       "    </tr>\n",
       "    <tr>\n",
       "      <th>2</th>\n",
       "      <td>1383</td>\n",
       "      <td>0.131598</td>\n",
       "    </tr>\n",
       "    <tr>\n",
       "      <th>3</th>\n",
       "      <td>1473</td>\n",
       "      <td>0.139172</td>\n",
       "    </tr>\n",
       "  </tbody>\n",
       "</table>\n",
       "</div>"
      ],
      "text/plain": [
       "           number of people  Edu_Loan mean\n",
       "Education                                 \n",
       "1                      2079       0.044733\n",
       "2                      1383       0.131598\n",
       "3                      1473       0.139172"
      ]
     },
     "execution_count": 19,
     "metadata": {},
     "output_type": "execute_result"
    }
   ],
   "source": [
    "# 1,2,3 구간에 대한 대출승인 비율\n",
    "Edu_Loan = data.groupby(\"Education\")[\"Personal Loan\"].agg([\"count\", \"mean\"])\n",
    "Edu_Loan = Edu_Loan.rename(columns = {\"count\" : \"number of people\",\"mean\" : \"Edu_Loan mean\"})\n",
    "Edu_Loan"
   ]
  },
  {
   "cell_type": "markdown",
   "id": "5918fffb",
   "metadata": {},
   "source": [
    "#### 기타 2진분류 도넛 차트로 시각화"
   ]
  },
  {
   "cell_type": "code",
   "execution_count": 20,
   "id": "421b08a1",
   "metadata": {},
   "outputs": [
    {
     "data": {
      "image/png": "[encoded data removed]",
      "text/plain": [
       "<Figure size 1440x1440 with 4 Axes>"
      ]
     },
     "metadata": {},
     "output_type": "display_data"
    }
   ],
   "source": [
    "fig, ax = plt.subplots(1,5,figsize=(20,20))\n",
    "columns = ['Securities Account','CD Account','Online','CreditCard']\n",
    "\n",
    "for i,column in enumerate(columns):\n",
    "    plt.subplot(1,4,i+1)\n",
    "    size = data[column].value_counts()\n",
    "    colors = ['lightblue', 'lightgreen']\n",
    "    labels = \"No\", \"Yes\"\n",
    "    explode = [0, 0.01]\n",
    "\n",
    "    my_circle = plt.Circle((0, 0), 0.7, color = 'white')\n",
    "\n",
    "    plt.rcParams['figure.figsize'] = (20, 20)\n",
    "    plt.pie(size, colors = colors, labels = labels, shadow = True, explode = explode, autopct = '%.2f%%')\n",
    "    plt.title('Distribution of {}'.format(column), fontsize = 15)\n",
    "    p = plt.gcf()\n",
    "    p.gca().add_artist(my_circle)\n",
    "plt.legend()\n",
    "plt.show()"
   ]
  },
  {
   "cell_type": "markdown",
   "id": "f3791342",
   "metadata": {},
   "source": [
    "### 연속형 변수 확인"
   ]
  },
  {
   "cell_type": "code",
   "execution_count": 21,
   "id": "6c28e730",
   "metadata": {},
   "outputs": [],
   "source": [
    "x_numeric_col = data[[\"Age\", \"Experience\", \"Income\", \"CCAvg\", \"Mortgage\"]]"
   ]
  },
  {
   "cell_type": "code",
   "execution_count": 22,
   "id": "c27e7ba2",
   "metadata": {},
   "outputs": [
    {
     "data": {
      "image/png": "[encoded data removed]",
      "text/plain": [
       "<Figure size 1080x1800 with 5 Axes>"
      ]
     },
     "metadata": {},
     "output_type": "display_data"
    }
   ],
   "source": [
    "plt.figure(figsize=(15,25))\n",
    "\n",
    "sns.set_palette(sns.color_palette(\"Set2\", 8))\n",
    "for i, variable in enumerate(x_numeric_col):\n",
    "        plt.subplot(10,3,i+1)\n",
    "        \n",
    "        sns.boxplot(x='Personal Loan',y= data[variable], data=data)     \n",
    "        sns.despine(top=True,right=True,left=True) \n",
    "        plt.tight_layout()\n",
    "        plt.title(variable.upper())"
   ]
  },
  {
   "cell_type": "code",
   "execution_count": 23,
   "id": "fab2f589",
   "metadata": {},
   "outputs": [
    {
     "data": {
      "image/png": "[encoded data removed]",
      "text/plain": [
       "<Figure size 1296x576 with 5 Axes>"
      ]
     },
     "metadata": {},
     "output_type": "display_data"
    }
   ],
   "source": [
    "plt.figure(figsize=(18,8))\n",
    "a = 2  \n",
    "b = 3  \n",
    "c = 1  \n",
    "\n",
    "for i in x_numeric_col.columns:\n",
    "    plt.subplot(a,b,c)\n",
    "    sns.distplot(data[i], color = 'Blue')\n",
    "    c+=1\n",
    "    \n",
    "plt.tight_layout()\n",
    "plt.show()"
   ]
  },
  {
   "cell_type": "markdown",
   "id": "929b5147",
   "metadata": {},
   "source": [
    "#### Age"
   ]
  },
  {
   "cell_type": "code",
   "execution_count": 24,
   "id": "e00a9a12",
   "metadata": {},
   "outputs": [
    {
     "data": {
      "image/png": "[encoded data removed]",
      "text/plain": [
       "<Figure size 432x288 with 1 Axes>"
      ]
     },
     "metadata": {},
     "output_type": "display_data"
    }
   ],
   "source": [
    "plt.rcParams['figure.figsize'] = (6, 4)\n",
    "sns.distplot( data[data['Personal Loan'] == 0]['Age'], color = 'g')\n",
    "sns.distplot( data[data['Personal Loan'] == 1]['Age'], color = 'r')\n",
    "sns.despine(top=True,right=True,left=True) "
   ]
  },
  {
   "cell_type": "markdown",
   "id": "207db867",
   "metadata": {},
   "source": [
    "#### Experience"
   ]
  },
  {
   "cell_type": "code",
   "execution_count": 25,
   "id": "c9adff73",
   "metadata": {},
   "outputs": [
    {
     "data": {
      "image/png": "[encoded data removed]",
      "text/plain": [
       "<Figure size 432x288 with 1 Axes>"
      ]
     },
     "metadata": {},
     "output_type": "display_data"
    }
   ],
   "source": [
    "plt.rcParams['figure.figsize'] = (6, 4)\n",
    "sns.distplot( data[data['Personal Loan'] == 0]['Experience'], color = 'g')\n",
    "sns.distplot( data[data['Personal Loan'] == 1]['Experience'], color = 'r')\n",
    "sns.despine(top=True,right=True,left=True)"
   ]
  },
  {
   "cell_type": "markdown",
   "id": "ff4c71bd",
   "metadata": {},
   "source": [
    "#### Income"
   ]
  },
  {
   "cell_type": "code",
   "execution_count": 26,
   "id": "3c6da548",
   "metadata": {},
   "outputs": [
    {
     "data": {
      "image/png": "[encoded data removed]",
      "text/plain": [
       "<Figure size 432x288 with 1 Axes>"
      ]
     },
     "metadata": {},
     "output_type": "display_data"
    }
   ],
   "source": [
    "sns.distplot( data[data['Personal Loan'] == 0]['Income'], color = 'g')\n",
    "sns.distplot( data[data['Personal Loan'] == 1]['Income'], color = 'r')\n",
    "sns.despine(top=True,right=True,left=True)"
   ]
  },
  {
   "cell_type": "code",
   "execution_count": 27,
   "id": "3e0b8dbd",
   "metadata": {},
   "outputs": [
    {
     "data": {
      "text/html": [
       "<div>\n",
       "<style scoped>\n",
       "    .dataframe tbody tr th:only-of-type {\n",
       "        vertical-align: middle;\n",
       "    }\n",
       "\n",
       "    .dataframe tbody tr th {\n",
       "        vertical-align: top;\n",
       "    }\n",
       "\n",
       "    .dataframe thead th {\n",
       "        text-align: right;\n",
       "    }\n",
       "</style>\n",
       "<table border=\"1\" class=\"dataframe\">\n",
       "  <thead>\n",
       "    <tr style=\"text-align: right;\">\n",
       "      <th></th>\n",
       "      <th>number of people</th>\n",
       "      <th>Income mean</th>\n",
       "    </tr>\n",
       "    <tr>\n",
       "      <th>Personal Loan</th>\n",
       "      <th></th>\n",
       "      <th></th>\n",
       "    </tr>\n",
       "  </thead>\n",
       "  <tbody>\n",
       "    <tr>\n",
       "      <th>0</th>\n",
       "      <td>4455</td>\n",
       "      <td>66.228507</td>\n",
       "    </tr>\n",
       "    <tr>\n",
       "      <th>1</th>\n",
       "      <td>480</td>\n",
       "      <td>144.745833</td>\n",
       "    </tr>\n",
       "  </tbody>\n",
       "</table>\n",
       "</div>"
      ],
      "text/plain": [
       "               number of people  Income mean\n",
       "Personal Loan                               \n",
       "0                          4455    66.228507\n",
       "1                           480   144.745833"
      ]
     },
     "execution_count": 27,
     "metadata": {},
     "output_type": "execute_result"
    }
   ],
   "source": [
    "Loan_Income = data.groupby(\"Personal Loan\")[\"Income\"].agg([\"count\",\"mean\"])\n",
    "Loan_Income = Loan_Income.rename(columns = {\"count\" : \"number of people\",\"mean\" : \"Income mean\"})\n",
    "Loan_Income"
   ]
  },
  {
   "cell_type": "markdown",
   "id": "70565cc1",
   "metadata": {},
   "source": [
    "#### CCAvg"
   ]
  },
  {
   "cell_type": "code",
   "execution_count": 28,
   "id": "623ac25a",
   "metadata": {},
   "outputs": [
    {
     "data": {
      "image/png": "[encoded data removed]",
      "text/plain": [
       "<Figure size 432x288 with 1 Axes>"
      ]
     },
     "metadata": {},
     "output_type": "display_data"
    }
   ],
   "source": [
    "sns.distplot( data[data['Personal Loan'] == 0]['CCAvg'], color = 'g')\n",
    "sns.distplot( data[data['Personal Loan'] == 1]['CCAvg'], color = 'r')\n",
    "sns.despine(top=True,right=True,left=True)"
   ]
  },
  {
   "cell_type": "code",
   "execution_count": 29,
   "id": "dafb43ea",
   "metadata": {},
   "outputs": [
    {
     "data": {
      "text/html": [
       "<div>\n",
       "<style scoped>\n",
       "    .dataframe tbody tr th:only-of-type {\n",
       "        vertical-align: middle;\n",
       "    }\n",
       "\n",
       "    .dataframe tbody tr th {\n",
       "        vertical-align: top;\n",
       "    }\n",
       "\n",
       "    .dataframe thead th {\n",
       "        text-align: right;\n",
       "    }\n",
       "</style>\n",
       "<table border=\"1\" class=\"dataframe\">\n",
       "  <thead>\n",
       "    <tr style=\"text-align: right;\">\n",
       "      <th></th>\n",
       "      <th>number of people</th>\n",
       "      <th>Loan_CCAvg</th>\n",
       "    </tr>\n",
       "    <tr>\n",
       "      <th>Personal Loan</th>\n",
       "      <th></th>\n",
       "      <th></th>\n",
       "    </tr>\n",
       "  </thead>\n",
       "  <tbody>\n",
       "    <tr>\n",
       "      <th>0</th>\n",
       "      <td>4455</td>\n",
       "      <td>1.726738</td>\n",
       "    </tr>\n",
       "    <tr>\n",
       "      <th>1</th>\n",
       "      <td>480</td>\n",
       "      <td>3.905354</td>\n",
       "    </tr>\n",
       "  </tbody>\n",
       "</table>\n",
       "</div>"
      ],
      "text/plain": [
       "               number of people  Loan_CCAvg\n",
       "Personal Loan                              \n",
       "0                          4455    1.726738\n",
       "1                           480    3.905354"
      ]
     },
     "execution_count": 29,
     "metadata": {},
     "output_type": "execute_result"
    }
   ],
   "source": [
    "Loan_CCAvg = data.groupby(\"Personal Loan\")[\"CCAvg\"].agg([\"count\",\"mean\"])\n",
    "Loan_CCAvg = Loan_CCAvg.rename(columns = {\"count\" : \"number of people\", \"mean\" : \"Loan_CCAvg\"})\n",
    "Loan_CCAvg"
   ]
  },
  {
   "cell_type": "markdown",
   "id": "b4080e86",
   "metadata": {},
   "source": [
    "#### Mortgage"
   ]
  },
  {
   "cell_type": "code",
   "execution_count": 30,
   "id": "c4f17a46",
   "metadata": {},
   "outputs": [
    {
     "data": {
      "image/png": "[encoded data removed]",
      "text/plain": [
       "<Figure size 432x288 with 1 Axes>"
      ]
     },
     "metadata": {},
     "output_type": "display_data"
    }
   ],
   "source": [
    "sns.distplot( data[data['Personal Loan'] == 0]['Mortgage'], color = 'g')\n",
    "sns.distplot( data[data['Personal Loan'] == 1]['Mortgage'], color = 'r')\n",
    "sns.despine(top=True,right=True,left=True) "
   ]
  },
  {
   "cell_type": "code",
   "execution_count": 31,
   "id": "7d8e1747",
   "metadata": {},
   "outputs": [
    {
     "data": {
      "text/html": [
       "<div>\n",
       "<style scoped>\n",
       "    .dataframe tbody tr th:only-of-type {\n",
       "        vertical-align: middle;\n",
       "    }\n",
       "\n",
       "    .dataframe tbody tr th {\n",
       "        vertical-align: top;\n",
       "    }\n",
       "\n",
       "    .dataframe thead th {\n",
       "        text-align: right;\n",
       "    }\n",
       "</style>\n",
       "<table border=\"1\" class=\"dataframe\">\n",
       "  <thead>\n",
       "    <tr style=\"text-align: right;\">\n",
       "      <th></th>\n",
       "      <th>number of people</th>\n",
       "      <th>Loan_Mortgage</th>\n",
       "    </tr>\n",
       "    <tr>\n",
       "      <th>Personal Loan</th>\n",
       "      <th></th>\n",
       "      <th></th>\n",
       "    </tr>\n",
       "  </thead>\n",
       "  <tbody>\n",
       "    <tr>\n",
       "      <th>0</th>\n",
       "      <td>4455</td>\n",
       "      <td>52.036139</td>\n",
       "    </tr>\n",
       "    <tr>\n",
       "      <th>1</th>\n",
       "      <td>480</td>\n",
       "      <td>100.845833</td>\n",
       "    </tr>\n",
       "  </tbody>\n",
       "</table>\n",
       "</div>"
      ],
      "text/plain": [
       "               number of people  Loan_Mortgage\n",
       "Personal Loan                                 \n",
       "0                          4455      52.036139\n",
       "1                           480     100.845833"
      ]
     },
     "execution_count": 31,
     "metadata": {},
     "output_type": "execute_result"
    }
   ],
   "source": [
    "Loan_Mrgg = data.groupby(\"Personal Loan\")[\"Mortgage\"].agg([\"count\", \"mean\"])\n",
    "Loan_Mrgg = Loan_Mrgg.rename(columns = {\"count\" : \"number of people\", \"mean\" : \"Loan_Mortgage\"})\n",
    "Loan_Mrgg"
   ]
  },
  {
   "cell_type": "code",
   "execution_count": 32,
   "id": "94d23572",
   "metadata": {},
   "outputs": [],
   "source": [
    "data.loc[data[\"Mortgage\"] > 0, 'Mortgage' ] = \"1\""
   ]
  },
  {
   "cell_type": "code",
   "execution_count": 33,
   "id": "6fdee790",
   "metadata": {},
   "outputs": [
    {
     "data": {
      "text/html": [
       "<div>\n",
       "<style scoped>\n",
       "    .dataframe tbody tr th:only-of-type {\n",
       "        vertical-align: middle;\n",
       "    }\n",
       "\n",
       "    .dataframe tbody tr th {\n",
       "        vertical-align: top;\n",
       "    }\n",
       "\n",
       "    .dataframe thead th {\n",
       "        text-align: right;\n",
       "    }\n",
       "</style>\n",
       "<table border=\"1\" class=\"dataframe\">\n",
       "  <thead>\n",
       "    <tr style=\"text-align: right;\">\n",
       "      <th></th>\n",
       "      <th>number of people</th>\n",
       "      <th>Personal Loan mean</th>\n",
       "    </tr>\n",
       "    <tr>\n",
       "      <th>Mortgage</th>\n",
       "      <th></th>\n",
       "      <th></th>\n",
       "    </tr>\n",
       "  </thead>\n",
       "  <tbody>\n",
       "    <tr>\n",
       "      <th>0</th>\n",
       "      <td>3409</td>\n",
       "      <td>0.091522</td>\n",
       "    </tr>\n",
       "    <tr>\n",
       "      <th>1</th>\n",
       "      <td>1526</td>\n",
       "      <td>0.110092</td>\n",
       "    </tr>\n",
       "  </tbody>\n",
       "</table>\n",
       "</div>"
      ],
      "text/plain": [
       "          number of people  Personal Loan mean\n",
       "Mortgage                                      \n",
       "0                     3409            0.091522\n",
       "1                     1526            0.110092"
      ]
     },
     "execution_count": 33,
     "metadata": {},
     "output_type": "execute_result"
    }
   ],
   "source": [
    "Mrgg_Loan = data.groupby(\"Mortgage\")[\"Personal Loan\"].agg([\"count\",\"mean\"])\n",
    "Mrgg_Loan = Mrgg_Loan.rename(columns = {\"count\" : \"number of people\",\"mean\" : \"Personal Loan mean\"})\n",
    "Mrgg_Loan"
   ]
  },
  {
   "cell_type": "markdown",
   "id": "287f22b8",
   "metadata": {},
   "source": [
    "### Correlation"
   ]
  },
  {
   "cell_type": "code",
   "execution_count": 34,
   "id": "9dd2a201",
   "metadata": {
    "scrolled": true
   },
   "outputs": [
    {
     "data": {
      "image/png": "[encoded data removed]",
      "text/plain": [
       "<Figure size 936x504 with 2 Axes>"
      ]
     },
     "metadata": {},
     "output_type": "display_data"
    }
   ],
   "source": [
    "#Crrelation\n",
    "# Correlation with heat map\n",
    "import matplotlib.pyplot as plt\n",
    "import seaborn as sns\n",
    "corr = data.corr()\n",
    "sns.set_context(\"notebook\", font_scale=1.0, rc={\"lines.linewidth\": 2.5})\n",
    "plt.figure(figsize=(13,7))\n",
    "# create a mask so we only see the correlation values once\n",
    "mask = np.zeros_like(corr)\n",
    "mask[np.triu_indices_from(mask, 1)] = True\n",
    "a = sns.heatmap(corr,mask=mask, annot=True, fmt='.2f')\n",
    "rotx = a.set_xticklabels(a.get_xticklabels(), rotation=90)\n",
    "roty = a.set_yticklabels(a.get_yticklabels(), rotation=30)"
   ]
  },
  {
   "cell_type": "code",
   "execution_count": 35,
   "id": "65a57b5d",
   "metadata": {},
   "outputs": [],
   "source": [
    "#상관관계 높은 변수 drop\n",
    "data = data.drop([\"Age\"],axis=1)\n",
    "pre_data=data.copy()"
   ]
  },
  {
   "cell_type": "code",
   "execution_count": 36,
   "id": "dc3fed6b",
   "metadata": {},
   "outputs": [
    {
     "name": "stdout",
     "output_type": "stream",
     "text": [
      "Shape of X: (4935, 10)\n",
      "Shape of y: (4935,)\n"
     ]
    }
   ],
   "source": [
    "# Correlation imfortance 위한 Randomforest \n",
    "# RF 위해서 시행하는 임시 split\n",
    "X_Rf = pre_data.drop(\"Personal Loan\",axis=1)\n",
    "y_Rf = pre_data[\"Personal Loan\"]\n",
    "print(\"Shape of X:\", X_Rf.shape)\n",
    "print(\"Shape of y:\", y_Rf.shape)"
   ]
  },
  {
   "cell_type": "code",
   "execution_count": 37,
   "id": "24e12066",
   "metadata": {
    "scrolled": true
   },
   "outputs": [
    {
     "data": {
      "image/png": "[encoded data removed]",
      "text/plain": [
       "<Figure size 864x504 with 1 Axes>"
      ]
     },
     "metadata": {},
     "output_type": "display_data"
    }
   ],
   "source": [
    "#간단히 중요도만 확인하는 목적으로 사용해보도록 한다.\n",
    "\n",
    "from sklearn.ensemble import RandomForestClassifier\n",
    "\n",
    "n_feature = X_Rf.values.shape[1]\n",
    "index = np.arange(n_feature)\n",
    "\n",
    "# Random Forest modeling\n",
    "forest = RandomForestClassifier(n_estimators=100, n_jobs=-1)\n",
    "forest.fit(X_Rf, y_Rf)\n",
    "\n",
    "# 시각화\n",
    "plt.figure(figsize=(12,7))\n",
    "plt.barh(index, forest.feature_importances_, align='center', color = 'red')\n",
    "plt.yticks(index, list(X_Rf.columns))\n",
    "plt.ylim(-1, n_feature)\n",
    "plt.xlabel('feature importance', size=15)\n",
    "plt.ylabel('feature', size=15)\n",
    "\n",
    "plt.show()"
   ]
  },
  {
   "cell_type": "markdown",
   "id": "d4d87d67",
   "metadata": {},
   "source": [
    "### K-means Clustering"
   ]
  },
  {
   "cell_type": "code",
   "execution_count": 38,
   "id": "610505f5",
   "metadata": {},
   "outputs": [],
   "source": [
    "from sklearn.preprocessing import StandardScaler\n",
    "\n",
    "sc_data = pre_data.copy()\n",
    "\n",
    "## Scale the numeric attributes(Experience, Income, CCAvg, Mortgage 에 대해서 )\n",
    "sc = StandardScaler()\n",
    "sc_data.iloc[:,:7]= sc.fit_transform(sc_data.iloc[:,:7])"
   ]
  },
  {
   "cell_type": "code",
   "execution_count": 39,
   "id": "b6416409",
   "metadata": {},
   "outputs": [
    {
     "data": {
      "text/html": [
       "<div>\n",
       "<style scoped>\n",
       "    .dataframe tbody tr th:only-of-type {\n",
       "        vertical-align: middle;\n",
       "    }\n",
       "\n",
       "    .dataframe tbody tr th {\n",
       "        vertical-align: top;\n",
       "    }\n",
       "\n",
       "    .dataframe thead th {\n",
       "        text-align: right;\n",
       "    }\n",
       "</style>\n",
       "<table border=\"1\" class=\"dataframe\">\n",
       "  <thead>\n",
       "    <tr style=\"text-align: right;\">\n",
       "      <th></th>\n",
       "      <th>Experience</th>\n",
       "      <th>Income</th>\n",
       "      <th>Family</th>\n",
       "      <th>CCAvg</th>\n",
       "      <th>Education</th>\n",
       "      <th>Mortgage</th>\n",
       "      <th>Securities Account</th>\n",
       "      <th>CD Account</th>\n",
       "      <th>Online</th>\n",
       "      <th>CreditCard</th>\n",
       "      <th>Personal Loan</th>\n",
       "    </tr>\n",
       "  </thead>\n",
       "  <tbody>\n",
       "    <tr>\n",
       "      <th>0</th>\n",
       "      <td>0.00</td>\n",
       "      <td>-0.04</td>\n",
       "      <td>0.07</td>\n",
       "      <td>-0.02</td>\n",
       "      <td>-0.00</td>\n",
       "      <td>-0.00</td>\n",
       "      <td>2.93</td>\n",
       "      <td>0.29</td>\n",
       "      <td>0.62</td>\n",
       "      <td>0.28</td>\n",
       "      <td>0.12</td>\n",
       "    </tr>\n",
       "    <tr>\n",
       "      <th>1</th>\n",
       "      <td>0.03</td>\n",
       "      <td>-0.46</td>\n",
       "      <td>0.15</td>\n",
       "      <td>-0.40</td>\n",
       "      <td>0.16</td>\n",
       "      <td>-0.00</td>\n",
       "      <td>-0.34</td>\n",
       "      <td>0.02</td>\n",
       "      <td>0.59</td>\n",
       "      <td>0.30</td>\n",
       "      <td>0.02</td>\n",
       "    </tr>\n",
       "    <tr>\n",
       "      <th>2</th>\n",
       "      <td>-0.08</td>\n",
       "      <td>1.35</td>\n",
       "      <td>-0.46</td>\n",
       "      <td>1.17</td>\n",
       "      <td>-0.46</td>\n",
       "      <td>0.01</td>\n",
       "      <td>-0.32</td>\n",
       "      <td>0.09</td>\n",
       "      <td>0.60</td>\n",
       "      <td>0.30</td>\n",
       "      <td>0.33</td>\n",
       "    </tr>\n",
       "  </tbody>\n",
       "</table>\n",
       "</div>"
      ],
      "text/plain": [
       "   Experience  Income  Family  CCAvg  Education  Mortgage  Securities Account  \\\n",
       "0        0.00   -0.04    0.07  -0.02      -0.00     -0.00                2.93   \n",
       "1        0.03   -0.46    0.15  -0.40       0.16     -0.00               -0.34   \n",
       "2       -0.08    1.35   -0.46   1.17      -0.46      0.01               -0.32   \n",
       "\n",
       "   CD Account  Online  CreditCard  Personal Loan  \n",
       "0        0.29    0.62        0.28           0.12  \n",
       "1        0.02    0.59        0.30           0.02  \n",
       "2        0.09    0.60        0.30           0.33  "
      ]
     },
     "execution_count": 39,
     "metadata": {},
     "output_type": "execute_result"
    }
   ],
   "source": [
    "from sklearn.cluster import KMeans\n",
    "\n",
    "# 3개 집단으로 나눌 때 \n",
    "\n",
    "model_3 = KMeans(n_clusters = 3, random_state = 12357).fit(sc_data)\n",
    "df_cluster = pd.DataFrame(model_3.cluster_centers_,columns = sc_data.columns)\n",
    "df_cluster.round(2)"
   ]
  },
  {
   "cell_type": "code",
   "execution_count": 40,
   "id": "48ba5534",
   "metadata": {},
   "outputs": [
    {
     "data": {
      "text/html": [
       "<div>\n",
       "<style scoped>\n",
       "    .dataframe tbody tr th:only-of-type {\n",
       "        vertical-align: middle;\n",
       "    }\n",
       "\n",
       "    .dataframe tbody tr th {\n",
       "        vertical-align: top;\n",
       "    }\n",
       "\n",
       "    .dataframe thead th {\n",
       "        text-align: right;\n",
       "    }\n",
       "</style>\n",
       "<table border=\"1\" class=\"dataframe\">\n",
       "  <thead>\n",
       "    <tr style=\"text-align: right;\">\n",
       "      <th></th>\n",
       "      <th>Experience</th>\n",
       "      <th>Income</th>\n",
       "      <th>Family</th>\n",
       "      <th>CCAvg</th>\n",
       "      <th>Education</th>\n",
       "      <th>Mortgage</th>\n",
       "      <th>Securities Account</th>\n",
       "      <th>CD Account</th>\n",
       "      <th>Online</th>\n",
       "      <th>CreditCard</th>\n",
       "      <th>Personal Loan</th>\n",
       "    </tr>\n",
       "  </thead>\n",
       "  <tbody>\n",
       "    <tr>\n",
       "      <th>0</th>\n",
       "      <td>0.03</td>\n",
       "      <td>-0.37</td>\n",
       "      <td>0.10</td>\n",
       "      <td>-0.35</td>\n",
       "      <td>0.13</td>\n",
       "      <td>-0.67</td>\n",
       "      <td>-0.34</td>\n",
       "      <td>0.02</td>\n",
       "      <td>0.60</td>\n",
       "      <td>0.29</td>\n",
       "      <td>0.03</td>\n",
       "    </tr>\n",
       "    <tr>\n",
       "      <th>1</th>\n",
       "      <td>-0.00</td>\n",
       "      <td>-0.05</td>\n",
       "      <td>0.07</td>\n",
       "      <td>-0.02</td>\n",
       "      <td>-0.00</td>\n",
       "      <td>-0.00</td>\n",
       "      <td>2.93</td>\n",
       "      <td>0.29</td>\n",
       "      <td>0.62</td>\n",
       "      <td>0.27</td>\n",
       "      <td>0.11</td>\n",
       "    </tr>\n",
       "    <tr>\n",
       "      <th>2</th>\n",
       "      <td>-0.00</td>\n",
       "      <td>-0.33</td>\n",
       "      <td>0.06</td>\n",
       "      <td>-0.35</td>\n",
       "      <td>0.07</td>\n",
       "      <td>1.49</td>\n",
       "      <td>-0.34</td>\n",
       "      <td>0.03</td>\n",
       "      <td>0.58</td>\n",
       "      <td>0.30</td>\n",
       "      <td>0.05</td>\n",
       "    </tr>\n",
       "    <tr>\n",
       "      <th>3</th>\n",
       "      <td>-0.07</td>\n",
       "      <td>1.59</td>\n",
       "      <td>-0.43</td>\n",
       "      <td>1.54</td>\n",
       "      <td>-0.47</td>\n",
       "      <td>-0.10</td>\n",
       "      <td>-0.31</td>\n",
       "      <td>0.10</td>\n",
       "      <td>0.60</td>\n",
       "      <td>0.30</td>\n",
       "      <td>0.37</td>\n",
       "    </tr>\n",
       "  </tbody>\n",
       "</table>\n",
       "</div>"
      ],
      "text/plain": [
       "   Experience  Income  Family  CCAvg  Education  Mortgage  Securities Account  \\\n",
       "0        0.03   -0.37    0.10  -0.35       0.13     -0.67               -0.34   \n",
       "1       -0.00   -0.05    0.07  -0.02      -0.00     -0.00                2.93   \n",
       "2       -0.00   -0.33    0.06  -0.35       0.07      1.49               -0.34   \n",
       "3       -0.07    1.59   -0.43   1.54      -0.47     -0.10               -0.31   \n",
       "\n",
       "   CD Account  Online  CreditCard  Personal Loan  \n",
       "0        0.02    0.60        0.29           0.03  \n",
       "1        0.29    0.62        0.27           0.11  \n",
       "2        0.03    0.58        0.30           0.05  \n",
       "3        0.10    0.60        0.30           0.37  "
      ]
     },
     "execution_count": 40,
     "metadata": {},
     "output_type": "execute_result"
    }
   ],
   "source": [
    "# 4개 집단으로 나눌 때 \n",
    "model_4 = KMeans(n_clusters = 4, random_state = 12357).fit(sc_data)\n",
    "df_cluster = pd.DataFrame(model_4.cluster_centers_,columns = sc_data.columns)\n",
    "df_cluster.round(2)"
   ]
  },
  {
   "cell_type": "markdown",
   "id": "5d2d7f43",
   "metadata": {},
   "source": [
    "### 모델링을 위한 전처리"
   ]
  },
  {
   "cell_type": "markdown",
   "id": "f8e77593",
   "metadata": {},
   "source": [
    "#### 원핫인코딩"
   ]
  },
  {
   "cell_type": "code",
   "execution_count": 41,
   "id": "02fff2ca",
   "metadata": {},
   "outputs": [],
   "source": [
    "pre_data=pre_data.copy()\n",
    "categorical_cols = [\"Family\"]\n",
    "pre_data=pd.get_dummies(pre_data, columns = categorical_cols, drop_first=True)"
   ]
  },
  {
   "cell_type": "markdown",
   "id": "07302784",
   "metadata": {},
   "source": [
    "#### Nomalization"
   ]
  },
  {
   "cell_type": "code",
   "execution_count": 42,
   "id": "70f6a261",
   "metadata": {},
   "outputs": [
    {
     "data": {
      "text/plain": [
       "<AxesSubplot:xlabel='Income', ylabel='Density'>"
      ]
     },
     "execution_count": 42,
     "metadata": {},
     "output_type": "execute_result"
    },
    {
     "data": {
      "image/png": "[encoded data removed]",
      "text/plain": [
       "<Figure size 432x288 with 1 Axes>"
      ]
     },
     "metadata": {},
     "output_type": "display_data"
    }
   ],
   "source": [
    "pre_data[\"Income\"] = pre_data[\"Income\"].apply(lambda x : np.log(x))\n",
    "plt.figure(figsize=(6,4))\n",
    "sns.distplot(data[\"Income\"], color = 'Blue')"
   ]
  },
  {
   "cell_type": "code",
   "execution_count": 43,
   "id": "0f8d0873",
   "metadata": {},
   "outputs": [
    {
     "data": {
      "text/plain": [
       "<AxesSubplot:xlabel='Income', ylabel='Density'>"
      ]
     },
     "execution_count": 43,
     "metadata": {},
     "output_type": "execute_result"
    },
    {
     "data": {
      "image/png": "[encoded data removed]",
      "text/plain": [
       "<Figure size 432x288 with 1 Axes>"
      ]
     },
     "metadata": {},
     "output_type": "display_data"
    }
   ],
   "source": [
    "# 위의 그래프 는 원데이터 그리고 아래 그림은 로그변환된 그래프 비교\n",
    "plt.figure(figsize=(6,4))\n",
    "sns.distplot(pre_data[\"Income\"], color = 'Blue')"
   ]
  },
  {
   "cell_type": "code",
   "execution_count": 44,
   "id": "fdb972df",
   "metadata": {},
   "outputs": [
    {
     "data": {
      "text/plain": [
       "<AxesSubplot:xlabel='CCAvg', ylabel='Density'>"
      ]
     },
     "execution_count": 44,
     "metadata": {},
     "output_type": "execute_result"
    },
    {
     "data": {
      "image/png": "[encoded data removed]",
      "text/plain": [
       "<Figure size 432x288 with 1 Axes>"
      ]
     },
     "metadata": {},
     "output_type": "display_data"
    }
   ],
   "source": [
    "pre_data[\"CCAvg\"] = pre_data[\"CCAvg\"].apply(lambda x : np.log1p(x))\n",
    "plt.figure(figsize=(6,4))\n",
    "sns.distplot(data[\"CCAvg\"], color = 'Blue')"
   ]
  },
  {
   "cell_type": "code",
   "execution_count": 45,
   "id": "5a080806",
   "metadata": {},
   "outputs": [
    {
     "data": {
      "text/plain": [
       "<AxesSubplot:xlabel='CCAvg', ylabel='Density'>"
      ]
     },
     "execution_count": 45,
     "metadata": {},
     "output_type": "execute_result"
    },
    {
     "data": {
      "image/png": "[encoded data removed]",
      "text/plain": [
       "<Figure size 432x288 with 1 Axes>"
      ]
     },
     "metadata": {},
     "output_type": "display_data"
    }
   ],
   "source": [
    "# 위의 그래프 는 원데이터 그리고 아래 그림은 로그변환된 그래프 비교\n",
    "plt.figure(figsize=(6,4))\n",
    "sns.distplot(pre_data[\"CCAvg\"], color = 'Blue')"
   ]
  },
  {
   "cell_type": "markdown",
   "id": "db2f886d",
   "metadata": {},
   "source": [
    "#### X,y 의 train/test split"
   ]
  },
  {
   "cell_type": "code",
   "execution_count": 46,
   "id": "dab8eaf0",
   "metadata": {},
   "outputs": [
    {
     "name": "stdout",
     "output_type": "stream",
     "text": [
      "Shape of X: (4935, 12)\n",
      "Shape of y: (4935,)\n"
     ]
    }
   ],
   "source": [
    "#  train 의 X, y  값 설정\n",
    "X = pre_data.drop(\"Personal Loan\",axis=1)\n",
    "y = pre_data[\"Personal Loan\"]\n",
    "print(\"Shape of X:\", X.shape)\n",
    "print(\"Shape of y:\", y.shape)"
   ]
  },
  {
   "cell_type": "code",
   "execution_count": 47,
   "id": "e25487c8",
   "metadata": {},
   "outputs": [
    {
     "name": "stdout",
     "output_type": "stream",
     "text": [
      "Shape of x_train : (3454, 12)\n",
      "Shape of x_test : (1481, 12)\n",
      "Shape of y_train : (3454,)\n",
      "Shape of y_test : (1481,)\n"
     ]
    }
   ],
   "source": [
    "# data Split : x_train, x_test, y_train, y_test 으로 나누기(test_size = 0.20) using sklearn \n",
    "# 층화추출을 반드시 할 것 \n",
    "\n",
    "from sklearn.model_selection import train_test_split\n",
    "\n",
    "x_train, x_test, y_train, y_test  = train_test_split(X, y, stratify=y, train_size=0.70, random_state=8888)\n",
    "\n",
    "# shapes 확인\n",
    "print(\"Shape of x_train :\", x_train.shape)\n",
    "print(\"Shape of x_test :\", x_test.shape)\n",
    "print(\"Shape of y_train :\", y_train.shape)\n",
    "print(\"Shape of y_test :\", y_test.shape)"
   ]
  },
  {
   "cell_type": "markdown",
   "id": "70493e60",
   "metadata": {},
   "source": [
    "#### Scaling"
   ]
  },
  {
   "cell_type": "code",
   "execution_count": 48,
   "id": "8950f85f",
   "metadata": {},
   "outputs": [],
   "source": [
    "from sklearn.preprocessing import StandardScaler\n",
    "\n",
    "## Scale the numeric attributes(Experience, Income, CCAvg, Mortgage 에 대해서 )\n",
    "scaler = StandardScaler()\n",
    "scaler.fit(x_train.iloc[:,:3])\n",
    "\n",
    "x_train.iloc[:,:3] = scaler.transform(x_train.iloc[:,:3])\n",
    "x_test.iloc[:,:3] = scaler.transform(x_test.iloc[:,:3])"
   ]
  },
  {
   "cell_type": "markdown",
   "id": "610caf95",
   "metadata": {},
   "source": [
    "#### 종속변수 불균형 처리하지 않음"
   ]
  },
  {
   "cell_type": "code",
   "execution_count": 49,
   "id": "de59a860",
   "metadata": {},
   "outputs": [
    {
     "data": {
      "text/html": [
       "<div>\n",
       "<style scoped>\n",
       "    .dataframe tbody tr th:only-of-type {\n",
       "        vertical-align: middle;\n",
       "    }\n",
       "\n",
       "    .dataframe tbody tr th {\n",
       "        vertical-align: top;\n",
       "    }\n",
       "\n",
       "    .dataframe thead th {\n",
       "        text-align: right;\n",
       "    }\n",
       "</style>\n",
       "<table border=\"1\" class=\"dataframe\">\n",
       "  <thead>\n",
       "    <tr style=\"text-align: right;\">\n",
       "      <th></th>\n",
       "      <th>acc</th>\n",
       "      <th>recall</th>\n",
       "      <th>precision</th>\n",
       "      <th>f1</th>\n",
       "    </tr>\n",
       "  </thead>\n",
       "  <tbody>\n",
       "    <tr>\n",
       "      <th>RandomForestClassifier</th>\n",
       "      <td>0.984366</td>\n",
       "      <td>0.980312</td>\n",
       "      <td>0.964680</td>\n",
       "      <td>0.985813</td>\n",
       "    </tr>\n",
       "    <tr>\n",
       "      <th>ExtraTreesClassifie</th>\n",
       "      <td>0.874612</td>\n",
       "      <td>0.799517</td>\n",
       "      <td>0.754163</td>\n",
       "      <td>0.888410</td>\n",
       "    </tr>\n",
       "    <tr>\n",
       "      <th>AdaBoostClassifier</th>\n",
       "      <td>0.967479</td>\n",
       "      <td>0.975954</td>\n",
       "      <td>0.856154</td>\n",
       "      <td>0.963541</td>\n",
       "    </tr>\n",
       "    <tr>\n",
       "      <th>GradientBoostingClassifie</th>\n",
       "      <td>0.920954</td>\n",
       "      <td>0.894155</td>\n",
       "      <td>0.800654</td>\n",
       "      <td>0.923892</td>\n",
       "    </tr>\n",
       "  </tbody>\n",
       "</table>\n",
       "</div>"
      ],
      "text/plain": [
       "                                acc    recall  precision        f1\n",
       "RandomForestClassifier     0.984366  0.980312   0.964680  0.985813\n",
       "ExtraTreesClassifie        0.874612  0.799517   0.754163  0.888410\n",
       "AdaBoostClassifier         0.967479  0.975954   0.856154  0.963541\n",
       "GradientBoostingClassifie  0.920954  0.894155   0.800654  0.923892"
      ]
     },
     "execution_count": 49,
     "metadata": {},
     "output_type": "execute_result"
    }
   ],
   "source": [
    "kfold = KFold(n_splits = 5, shuffle = True, random_state = 7777)\n",
    "\n",
    "model1 = RandomForestClassifier()\n",
    "model2 = ExtraTreesClassifier()\n",
    "model3 = AdaBoostClassifier()\n",
    "model4 = GradientBoostingClassifier()\n",
    "\n",
    "\n",
    "acc = []\n",
    "recall = []\n",
    "precision = []\n",
    "f1 = []\n",
    "\n",
    "for model in [model1, model2, model3, model4]:\n",
    "    acc.append(np.mean(cross_val_score(model, x_train, y_train, cv = kfold, scoring = 'accuracy')))\n",
    "    recall.append(np.mean(cross_val_score(model, x_train, y_train, cv = kfold, scoring = 'recall')))\n",
    "    precision.append(np.mean(cross_val_score(model, x_train, y_train, cv = kfold, scoring = 'precision')))\n",
    "    f1.append(cross_val_score(model, x_train, y_train, cv = kfold, scoring = 'f1').mean())\n",
    "results = pd.DataFrame(data = np.array([acc, recall, precision, f1]), columns= ['acc', 'recall', 'precision', 'f1'])\n",
    "results.index = ['RandomForestClassifier', 'ExtraTreesClassifie', 'AdaBoostClassifier', 'GradientBoostingClassifie']\n",
    "results"
   ]
  },
  {
   "cell_type": "markdown",
   "id": "48d33778",
   "metadata": {},
   "source": [
    "#### RandomOverSamling 적용하여 종속변수 불균형 처리"
   ]
  },
  {
   "cell_type": "code",
   "execution_count": 50,
   "id": "e3892b47",
   "metadata": {},
   "outputs": [
    {
     "data": {
      "text/html": [
       "<div>\n",
       "<style scoped>\n",
       "    .dataframe tbody tr th:only-of-type {\n",
       "        vertical-align: middle;\n",
       "    }\n",
       "\n",
       "    .dataframe tbody tr th {\n",
       "        vertical-align: top;\n",
       "    }\n",
       "\n",
       "    .dataframe thead th {\n",
       "        text-align: right;\n",
       "    }\n",
       "</style>\n",
       "<table border=\"1\" class=\"dataframe\">\n",
       "  <thead>\n",
       "    <tr style=\"text-align: right;\">\n",
       "      <th></th>\n",
       "      <th>acc</th>\n",
       "      <th>recall</th>\n",
       "      <th>precision</th>\n",
       "      <th>f1</th>\n",
       "    </tr>\n",
       "  </thead>\n",
       "  <tbody>\n",
       "    <tr>\n",
       "      <th>RandomForestClassifier</th>\n",
       "      <td>0.995991</td>\n",
       "      <td>0.998557</td>\n",
       "      <td>0.941308</td>\n",
       "      <td>0.987012</td>\n",
       "    </tr>\n",
       "    <tr>\n",
       "      <th>ExtraTreesClassifie</th>\n",
       "      <td>1.000000</td>\n",
       "      <td>1.000000</td>\n",
       "      <td>0.958777</td>\n",
       "      <td>0.997760</td>\n",
       "    </tr>\n",
       "    <tr>\n",
       "      <th>AdaBoostClassifier</th>\n",
       "      <td>0.992053</td>\n",
       "      <td>0.996476</td>\n",
       "      <td>0.926580</td>\n",
       "      <td>0.976748</td>\n",
       "    </tr>\n",
       "    <tr>\n",
       "      <th>GradientBoostingClassifie</th>\n",
       "      <td>0.996172</td>\n",
       "      <td>0.998564</td>\n",
       "      <td>0.942303</td>\n",
       "      <td>0.987132</td>\n",
       "    </tr>\n",
       "  </tbody>\n",
       "</table>\n",
       "</div>"
      ],
      "text/plain": [
       "                                acc    recall  precision        f1\n",
       "RandomForestClassifier     0.995991  0.998557   0.941308  0.987012\n",
       "ExtraTreesClassifie        1.000000  1.000000   0.958777  0.997760\n",
       "AdaBoostClassifier         0.992053  0.996476   0.926580  0.976748\n",
       "GradientBoostingClassifie  0.996172  0.998564   0.942303  0.987132"
      ]
     },
     "execution_count": 50,
     "metadata": {},
     "output_type": "execute_result"
    }
   ],
   "source": [
    "from imblearn.over_sampling import RandomOverSampler\n",
    "X_resampled, y_resampled = RandomOverSampler(random_state=7777).fit_resample(x_train, y_train)\n",
    "acc = []\n",
    "recall = []\n",
    "precision = []\n",
    "f1 = []\n",
    "\n",
    "for model in [model1, model2, model3, model4]:\n",
    "    acc.append(np.mean(cross_val_score(model, X_resampled, y_resampled, cv = kfold, scoring = 'accuracy')))\n",
    "    recall.append(np.mean(cross_val_score(model, X_resampled, y_resampled, cv = kfold, scoring = 'recall')))\n",
    "    precision.append(np.mean(cross_val_score(model, X_resampled, y_resampled, cv = kfold, scoring = 'precision')))\n",
    "    f1.append(cross_val_score(model, X_resampled, y_resampled, cv = kfold, scoring = 'f1').mean())\n",
    "results = pd.DataFrame(data = np.array([acc, recall, precision, f1]), columns= ['acc', 'recall', 'precision', 'f1'])\n",
    "results.index = ['RandomForestClassifier', 'ExtraTreesClassifie', 'AdaBoostClassifier', 'GradientBoostingClassifie']\n",
    "results"
   ]
  },
  {
   "cell_type": "code",
   "execution_count": 51,
   "id": "5ff021e1",
   "metadata": {},
   "outputs": [],
   "source": [
    "#randomoversamplers 활용 결정\n",
    "X = X_resampled\n",
    "y = y_resampled"
   ]
  },
  {
   "cell_type": "markdown",
   "id": "c69c1061",
   "metadata": {},
   "source": [
    "#  Modeling"
   ]
  },
  {
   "cell_type": "markdown",
   "id": "cfd7532b",
   "metadata": {},
   "source": [
    "## Logistic Regression"
   ]
  },
  {
   "cell_type": "code",
   "execution_count": 52,
   "id": "db0bbaa1",
   "metadata": {
    "scrolled": false
   },
   "outputs": [
    {
     "name": "stdout",
     "output_type": "stream",
     "text": [
      "[[1205  132]\n",
      " [  13  131]]\n"
     ]
    },
    {
     "data": {
      "text/html": [
       "<div>\n",
       "<style scoped>\n",
       "    .dataframe tbody tr th:only-of-type {\n",
       "        vertical-align: middle;\n",
       "    }\n",
       "\n",
       "    .dataframe tbody tr th {\n",
       "        vertical-align: top;\n",
       "    }\n",
       "\n",
       "    .dataframe thead th {\n",
       "        text-align: right;\n",
       "    }\n",
       "</style>\n",
       "<table border=\"1\" class=\"dataframe\">\n",
       "  <thead>\n",
       "    <tr style=\"text-align: right;\">\n",
       "      <th></th>\n",
       "      <th>results</th>\n",
       "    </tr>\n",
       "  </thead>\n",
       "  <tbody>\n",
       "    <tr>\n",
       "      <th>acc</th>\n",
       "      <td>0.902093</td>\n",
       "    </tr>\n",
       "    <tr>\n",
       "      <th>precision</th>\n",
       "      <td>0.498099</td>\n",
       "    </tr>\n",
       "    <tr>\n",
       "      <th>recall</th>\n",
       "      <td>0.909722</td>\n",
       "    </tr>\n",
       "    <tr>\n",
       "      <th>f1_score</th>\n",
       "      <td>0.643735</td>\n",
       "    </tr>\n",
       "    <tr>\n",
       "      <th>auc</th>\n",
       "      <td>0.970000</td>\n",
       "    </tr>\n",
       "  </tbody>\n",
       "</table>\n",
       "</div>"
      ],
      "text/plain": [
       "            results\n",
       "acc        0.902093\n",
       "precision  0.498099\n",
       "recall     0.909722\n",
       "f1_score   0.643735\n",
       "auc        0.970000"
      ]
     },
     "execution_count": 52,
     "metadata": {},
     "output_type": "execute_result"
    }
   ],
   "source": [
    "from sklearn.linear_model import LogisticRegression\n",
    "from sklearn.metrics import accuracy_score \n",
    "\n",
    "LR = LogisticRegression()\n",
    "LR.fit(X , y)\n",
    "y_pred_LR = LR.predict(x_test)\n",
    "print(confusion_matrix(y_test, y_pred_LR))\n",
    "fpr, tpr, thresholds = roc_curve(y_test, LR.predict_proba(x_test)[:, 1])\n",
    "LR_auc=auc(fpr, tpr).round(2)\n",
    "result_LR = pd.DataFrame([accuracy_score(y_test, y_pred_LR),\n",
    "                        precision_score(y_test, y_pred_LR),\n",
    "                        recall_score(y_test, y_pred_LR),\n",
    "                        f1_score(y_test, y_pred_LR),\n",
    "                        LR_auc])\n",
    "result_LR.index = ['acc', 'precision', 'recall', 'f1_score', 'auc']\n",
    "result_LR.columns = ['results']\n",
    "result_LR"
   ]
  },
  {
   "cell_type": "code",
   "execution_count": 53,
   "id": "2584daec",
   "metadata": {},
   "outputs": [
    {
     "name": "stdout",
     "output_type": "stream",
     "text": [
      "[[1320   17]\n",
      " [  39  105]]\n"
     ]
    },
    {
     "data": {
      "text/html": [
       "<div>\n",
       "<style scoped>\n",
       "    .dataframe tbody tr th:only-of-type {\n",
       "        vertical-align: middle;\n",
       "    }\n",
       "\n",
       "    .dataframe tbody tr th {\n",
       "        vertical-align: top;\n",
       "    }\n",
       "\n",
       "    .dataframe thead th {\n",
       "        text-align: right;\n",
       "    }\n",
       "</style>\n",
       "<table border=\"1\" class=\"dataframe\">\n",
       "  <thead>\n",
       "    <tr style=\"text-align: right;\">\n",
       "      <th></th>\n",
       "      <th>results</th>\n",
       "    </tr>\n",
       "  </thead>\n",
       "  <tbody>\n",
       "    <tr>\n",
       "      <th>acc</th>\n",
       "      <td>0.962188</td>\n",
       "    </tr>\n",
       "    <tr>\n",
       "      <th>precision</th>\n",
       "      <td>0.860656</td>\n",
       "    </tr>\n",
       "    <tr>\n",
       "      <th>recall</th>\n",
       "      <td>0.729167</td>\n",
       "    </tr>\n",
       "    <tr>\n",
       "      <th>f1_score</th>\n",
       "      <td>0.789474</td>\n",
       "    </tr>\n",
       "    <tr>\n",
       "      <th>auc</th>\n",
       "      <td>0.970000</td>\n",
       "    </tr>\n",
       "  </tbody>\n",
       "</table>\n",
       "</div>"
      ],
      "text/plain": [
       "            results\n",
       "acc        0.962188\n",
       "precision  0.860656\n",
       "recall     0.729167\n",
       "f1_score   0.789474\n",
       "auc        0.970000"
      ]
     },
     "execution_count": 53,
     "metadata": {},
     "output_type": "execute_result"
    }
   ],
   "source": [
    "# nooversampling\n",
    "LR = LogisticRegression()\n",
    "LR.fit(x_train , y_train)\n",
    "y_pred_LR1 = LR.predict(x_test)\n",
    "print(confusion_matrix(y_test, y_pred_LR1))\n",
    "fpr, tpr, thresholds = roc_curve(y_test, LR.predict_proba(x_test)[:, 1])\n",
    "LR1_auc=auc(fpr, tpr).round(2)\n",
    "result_LR1 = pd.DataFrame([accuracy_score(y_test, y_pred_LR1),\n",
    "                        precision_score(y_test, y_pred_LR1),\n",
    "                        recall_score(y_test, y_pred_LR1),\n",
    "                        f1_score(y_test, y_pred_LR1),\n",
    "                        LR1_auc])\n",
    "result_LR1.index = ['acc', 'precision', 'recall', 'f1_score', 'auc']\n",
    "result_LR1.columns = ['results']\n",
    "result_LR1"
   ]
  },
  {
   "cell_type": "markdown",
   "id": "3ee3eefb",
   "metadata": {},
   "source": [
    "## KNN Classifier"
   ]
  },
  {
   "cell_type": "code",
   "execution_count": 54,
   "id": "021d06b1",
   "metadata": {},
   "outputs": [],
   "source": [
    "knn_classifier = KNeighborsClassifier(algorithm='brute',weights='distance')\n",
    "params = {'n_neighbors':[1,11,25],'metric':[\"euclidean\",'cityblock']}\n",
    "grid = GridSearchCV(knn_classifier,param_grid=params,scoring='accuracy',cv=10)"
   ]
  },
  {
   "cell_type": "code",
   "execution_count": 55,
   "id": "7ef8fd8f",
   "metadata": {},
   "outputs": [
    {
     "name": "stdout",
     "output_type": "stream",
     "text": [
      "0.9974335823352678\n",
      "{'metric': 'cityblock', 'n_neighbors': 1}\n"
     ]
    }
   ],
   "source": [
    "grid.fit(X,y)\n",
    "print(grid.best_score_)\n",
    "print(grid.best_params_)"
   ]
  },
  {
   "cell_type": "code",
   "execution_count": 56,
   "id": "53639044",
   "metadata": {
    "scrolled": true
   },
   "outputs": [
    {
     "name": "stdout",
     "output_type": "stream",
     "text": [
      "[[1328    9]\n",
      " [  36  108]]\n"
     ]
    },
    {
     "data": {
      "text/html": [
       "<div>\n",
       "<style scoped>\n",
       "    .dataframe tbody tr th:only-of-type {\n",
       "        vertical-align: middle;\n",
       "    }\n",
       "\n",
       "    .dataframe tbody tr th {\n",
       "        vertical-align: top;\n",
       "    }\n",
       "\n",
       "    .dataframe thead th {\n",
       "        text-align: right;\n",
       "    }\n",
       "</style>\n",
       "<table border=\"1\" class=\"dataframe\">\n",
       "  <thead>\n",
       "    <tr style=\"text-align: right;\">\n",
       "      <th></th>\n",
       "      <th>results</th>\n",
       "    </tr>\n",
       "  </thead>\n",
       "  <tbody>\n",
       "    <tr>\n",
       "      <th>acc</th>\n",
       "      <td>0.969615</td>\n",
       "    </tr>\n",
       "    <tr>\n",
       "      <th>precision</th>\n",
       "      <td>0.923077</td>\n",
       "    </tr>\n",
       "    <tr>\n",
       "      <th>recall</th>\n",
       "      <td>0.750000</td>\n",
       "    </tr>\n",
       "    <tr>\n",
       "      <th>f1_score</th>\n",
       "      <td>0.827586</td>\n",
       "    </tr>\n",
       "    <tr>\n",
       "      <th>auc</th>\n",
       "      <td>0.870000</td>\n",
       "    </tr>\n",
       "  </tbody>\n",
       "</table>\n",
       "</div>"
      ],
      "text/plain": [
       "            results\n",
       "acc        0.969615\n",
       "precision  0.923077\n",
       "recall     0.750000\n",
       "f1_score   0.827586\n",
       "auc        0.870000"
      ]
     },
     "execution_count": 56,
     "metadata": {},
     "output_type": "execute_result"
    }
   ],
   "source": [
    "best_knn = grid.best_estimator_\n",
    "\n",
    "y_pred_knn = best_knn.predict(x_test) \n",
    "print(confusion_matrix(y_test, y_pred_knn))\n",
    "fpr, tpr, thresholds = roc_curve(y_test, best_knn.predict_proba(x_test)[:, 1])\n",
    "best_knn_auc=auc(fpr, tpr).round(2)\n",
    "result_knn = pd.DataFrame([accuracy_score(y_test, y_pred_knn),\n",
    "                        precision_score(y_test, y_pred_knn),\n",
    "                        recall_score(y_test, y_pred_knn),\n",
    "                        f1_score(y_test, y_pred_knn),\n",
    "                        best_knn_auc])\n",
    "result_knn.index = ['acc', 'precision', 'recall', 'f1_score', 'auc']\n",
    "result_knn.columns = ['results']\n",
    "result_knn"
   ]
  },
  {
   "cell_type": "markdown",
   "id": "cce3b7b5",
   "metadata": {},
   "source": [
    "## SVM"
   ]
  },
  {
   "cell_type": "code",
   "execution_count": 57,
   "id": "25d5255b",
   "metadata": {},
   "outputs": [
    {
     "name": "stdout",
     "output_type": "stream",
     "text": [
      "[[1297   40]\n",
      " [   6  138]]\n"
     ]
    },
    {
     "data": {
      "text/html": [
       "<div>\n",
       "<style scoped>\n",
       "    .dataframe tbody tr th:only-of-type {\n",
       "        vertical-align: middle;\n",
       "    }\n",
       "\n",
       "    .dataframe tbody tr th {\n",
       "        vertical-align: top;\n",
       "    }\n",
       "\n",
       "    .dataframe thead th {\n",
       "        text-align: right;\n",
       "    }\n",
       "</style>\n",
       "<table border=\"1\" class=\"dataframe\">\n",
       "  <thead>\n",
       "    <tr style=\"text-align: right;\">\n",
       "      <th></th>\n",
       "      <th>results</th>\n",
       "    </tr>\n",
       "  </thead>\n",
       "  <tbody>\n",
       "    <tr>\n",
       "      <th>acc</th>\n",
       "      <td>0.968940</td>\n",
       "    </tr>\n",
       "    <tr>\n",
       "      <th>precision</th>\n",
       "      <td>0.775281</td>\n",
       "    </tr>\n",
       "    <tr>\n",
       "      <th>recall</th>\n",
       "      <td>0.958333</td>\n",
       "    </tr>\n",
       "    <tr>\n",
       "      <th>f1_score</th>\n",
       "      <td>0.857143</td>\n",
       "    </tr>\n",
       "    <tr>\n",
       "      <th>auc</th>\n",
       "      <td>0.990000</td>\n",
       "    </tr>\n",
       "  </tbody>\n",
       "</table>\n",
       "</div>"
      ],
      "text/plain": [
       "            results\n",
       "acc        0.968940\n",
       "precision  0.775281\n",
       "recall     0.958333\n",
       "f1_score   0.857143\n",
       "auc        0.990000"
      ]
     },
     "execution_count": 57,
     "metadata": {},
     "output_type": "execute_result"
    }
   ],
   "source": [
    "from sklearn.svm import SVC\n",
    "\n",
    "svc = SVC(probability=True)\n",
    "svc.fit(X,y)\n",
    "y_pred_svc = svc.predict(x_test)\n",
    "print(confusion_matrix(y_test, y_pred_svc))\n",
    "fpr, tpr, thresholds = roc_curve(y_test, svc.predict_proba(x_test)[:, 1])\n",
    "svc_auc=auc(fpr, tpr).round(2)\n",
    "result_svm = pd.DataFrame([accuracy_score(y_test, y_pred_svc),\n",
    "                        precision_score(y_test, y_pred_svc),\n",
    "                        recall_score(y_test, y_pred_svc),\n",
    "                        f1_score(y_test, y_pred_svc),\n",
    "                        svc_auc])\n",
    "result_svm.index = ['acc', 'precision', 'recall', 'f1_score', 'auc']\n",
    "result_svm.columns = ['results']\n",
    "result_svm"
   ]
  },
  {
   "cell_type": "markdown",
   "id": "0a4effd6",
   "metadata": {},
   "source": [
    "## AdaBoost Classifier"
   ]
  },
  {
   "cell_type": "code",
   "execution_count": 58,
   "id": "a571c163",
   "metadata": {},
   "outputs": [],
   "source": [
    "from sklearn.ensemble import AdaBoostClassifier"
   ]
  },
  {
   "cell_type": "code",
   "execution_count": 59,
   "id": "b92ac42f",
   "metadata": {},
   "outputs": [],
   "source": [
    "# Create adaboost-decision tree classifer object\n",
    "ada = AdaBoostClassifier(\n",
    "    DecisionTreeClassifier(max_depth=2),\n",
    "    n_estimators = 600,\n",
    "    learning_rate = 1)"
   ]
  },
  {
   "cell_type": "code",
   "execution_count": 60,
   "id": "1cdb7392",
   "metadata": {},
   "outputs": [
    {
     "name": "stdout",
     "output_type": "stream",
     "text": [
      "Wall time: 8.34 s\n"
     ]
    },
    {
     "data": {
      "text/plain": [
       "AdaBoostClassifier(base_estimator=DecisionTreeClassifier(max_depth=2),\n",
       "                   learning_rate=1, n_estimators=600)"
      ]
     },
     "execution_count": 60,
     "metadata": {},
     "output_type": "execute_result"
    }
   ],
   "source": [
    "# Train model\n",
    "%time ada.fit(X, y)"
   ]
  },
  {
   "cell_type": "code",
   "execution_count": 61,
   "id": "02b11537",
   "metadata": {},
   "outputs": [],
   "source": [
    "# Predict on Train \n",
    "y_train_pred_ada = ada.predict(X)\n",
    "# Predict on Test \n",
    "y_test_pred_ada = ada.predict(x_test)"
   ]
  },
  {
   "cell_type": "code",
   "execution_count": 62,
   "id": "bf8e585e",
   "metadata": {},
   "outputs": [
    {
     "name": "stdout",
     "output_type": "stream",
     "text": [
      "1.0\n",
      "0.9844699527346388\n"
     ]
    }
   ],
   "source": [
    "print(accuracy_score(y, y_train_pred_ada))\n",
    "print(accuracy_score(y_test,y_test_pred_ada))"
   ]
  },
  {
   "cell_type": "code",
   "execution_count": 63,
   "id": "c8b57d26",
   "metadata": {},
   "outputs": [
    {
     "name": "stdout",
     "output_type": "stream",
     "text": [
      "[[1326   11]\n",
      " [  12  132]]\n"
     ]
    },
    {
     "data": {
      "text/html": [
       "<div>\n",
       "<style scoped>\n",
       "    .dataframe tbody tr th:only-of-type {\n",
       "        vertical-align: middle;\n",
       "    }\n",
       "\n",
       "    .dataframe tbody tr th {\n",
       "        vertical-align: top;\n",
       "    }\n",
       "\n",
       "    .dataframe thead th {\n",
       "        text-align: right;\n",
       "    }\n",
       "</style>\n",
       "<table border=\"1\" class=\"dataframe\">\n",
       "  <thead>\n",
       "    <tr style=\"text-align: right;\">\n",
       "      <th></th>\n",
       "      <th>results</th>\n",
       "    </tr>\n",
       "  </thead>\n",
       "  <tbody>\n",
       "    <tr>\n",
       "      <th>acc</th>\n",
       "      <td>0.984470</td>\n",
       "    </tr>\n",
       "    <tr>\n",
       "      <th>precision</th>\n",
       "      <td>0.923077</td>\n",
       "    </tr>\n",
       "    <tr>\n",
       "      <th>recall</th>\n",
       "      <td>0.916667</td>\n",
       "    </tr>\n",
       "    <tr>\n",
       "      <th>f1_score</th>\n",
       "      <td>0.919861</td>\n",
       "    </tr>\n",
       "    <tr>\n",
       "      <th>auc</th>\n",
       "      <td>1.000000</td>\n",
       "    </tr>\n",
       "  </tbody>\n",
       "</table>\n",
       "</div>"
      ],
      "text/plain": [
       "            results\n",
       "acc        0.984470\n",
       "precision  0.923077\n",
       "recall     0.916667\n",
       "f1_score   0.919861\n",
       "auc        1.000000"
      ]
     },
     "execution_count": 63,
     "metadata": {},
     "output_type": "execute_result"
    }
   ],
   "source": [
    "print(confusion_matrix(y_test, y_test_pred_ada))\n",
    "fpr, tpr, thresholds = roc_curve(y_test, ada.predict_proba(x_test)[:, 1])\n",
    "ada_auc=auc(fpr, tpr).round(2)\n",
    "result_ada = pd.DataFrame([accuracy_score(y_test, y_test_pred_ada),\n",
    "                        precision_score(y_test, y_test_pred_ada),\n",
    "                        recall_score(y_test, y_test_pred_ada),\n",
    "                        f1_score(y_test, y_test_pred_ada),\n",
    "                        ada_auc])\n",
    "result_ada.index = ['acc', 'precision', 'recall', 'f1_score', 'auc']\n",
    "result_ada.columns = ['results']\n",
    "result_ada"
   ]
  },
  {
   "cell_type": "markdown",
   "id": "9d8e033f",
   "metadata": {},
   "source": [
    "## Gradient Boosting"
   ]
  },
  {
   "cell_type": "code",
   "execution_count": 64,
   "id": "20322de0",
   "metadata": {},
   "outputs": [
    {
     "name": "stdout",
     "output_type": "stream",
     "text": [
      "Wall time: 338 ms\n"
     ]
    },
    {
     "data": {
      "text/plain": [
       "GradientBoostingClassifier(learning_rate=0.3, n_estimators=50, subsample=0.8)"
      ]
     },
     "execution_count": 64,
     "metadata": {},
     "output_type": "execute_result"
    }
   ],
   "source": [
    "from sklearn.ensemble import GradientBoostingClassifier\n",
    "GBM = GradientBoostingClassifier(n_estimators=50,\n",
    "                                       learning_rate=0.3,\n",
    "                                       subsample=0.8)\n",
    "\n",
    "%time GBM.fit(X, y)"
   ]
  },
  {
   "cell_type": "code",
   "execution_count": 65,
   "id": "a579cd89",
   "metadata": {},
   "outputs": [
    {
     "name": "stdout",
     "output_type": "stream",
     "text": [
      "0.9951892238614497\n",
      "0.9824442943956786\n"
     ]
    }
   ],
   "source": [
    "y_train_pred_GBM = GBM.predict(X)\n",
    "y_test_pred_GMB = GBM.predict(x_test)\n",
    "\n",
    "print(accuracy_score(y, y_train_pred_GBM))\n",
    "print(accuracy_score(y_test, y_test_pred_GMB))"
   ]
  },
  {
   "cell_type": "code",
   "execution_count": 66,
   "id": "0becb3eb",
   "metadata": {},
   "outputs": [
    {
     "name": "stdout",
     "output_type": "stream",
     "text": [
      "[[1315   22]\n",
      " [   4  140]]\n"
     ]
    },
    {
     "data": {
      "text/html": [
       "<div>\n",
       "<style scoped>\n",
       "    .dataframe tbody tr th:only-of-type {\n",
       "        vertical-align: middle;\n",
       "    }\n",
       "\n",
       "    .dataframe tbody tr th {\n",
       "        vertical-align: top;\n",
       "    }\n",
       "\n",
       "    .dataframe thead th {\n",
       "        text-align: right;\n",
       "    }\n",
       "</style>\n",
       "<table border=\"1\" class=\"dataframe\">\n",
       "  <thead>\n",
       "    <tr style=\"text-align: right;\">\n",
       "      <th></th>\n",
       "      <th>results</th>\n",
       "    </tr>\n",
       "  </thead>\n",
       "  <tbody>\n",
       "    <tr>\n",
       "      <th>acc</th>\n",
       "      <td>0.982444</td>\n",
       "    </tr>\n",
       "    <tr>\n",
       "      <th>precision</th>\n",
       "      <td>0.864198</td>\n",
       "    </tr>\n",
       "    <tr>\n",
       "      <th>recall</th>\n",
       "      <td>0.972222</td>\n",
       "    </tr>\n",
       "    <tr>\n",
       "      <th>f1_score</th>\n",
       "      <td>0.915033</td>\n",
       "    </tr>\n",
       "    <tr>\n",
       "      <th>auc</th>\n",
       "      <td>1.000000</td>\n",
       "    </tr>\n",
       "  </tbody>\n",
       "</table>\n",
       "</div>"
      ],
      "text/plain": [
       "            results\n",
       "acc        0.982444\n",
       "precision  0.864198\n",
       "recall     0.972222\n",
       "f1_score   0.915033\n",
       "auc        1.000000"
      ]
     },
     "execution_count": 66,
     "metadata": {},
     "output_type": "execute_result"
    }
   ],
   "source": [
    "print(confusion_matrix(y_test, y_test_pred_GMB))\n",
    "fpr, tpr, thresholds = roc_curve(y_test, GBM.predict_proba(x_test)[:, 1])\n",
    "GBM_auc=auc(fpr, tpr).round(2)\n",
    "result_GBM = pd.DataFrame([accuracy_score(y_test, y_test_pred_GMB),\n",
    "                        precision_score(y_test, y_test_pred_GMB),\n",
    "                        recall_score(y_test, y_test_pred_GMB),\n",
    "                        f1_score(y_test, y_test_pred_GMB),\n",
    "                        GBM_auc])\n",
    "result_GBM.index = ['acc', 'precision', 'recall', 'f1_score', 'auc']\n",
    "result_GBM.columns = ['results']\n",
    "result_GBM"
   ]
  },
  {
   "cell_type": "markdown",
   "id": "a65ba561",
   "metadata": {},
   "source": [
    "## Cat Boost"
   ]
  },
  {
   "cell_type": "code",
   "execution_count": 67,
   "id": "1ee06906",
   "metadata": {},
   "outputs": [
    {
     "data": {
      "application/vnd.jupyter.widget-view+json": {
       "model_id": "9dc38b46e8d341dc9d279a53947665b8",
       "version_major": 2,
       "version_minor": 0
      },
      "text/plain": [
       "MetricVisualizer(layout=Layout(align_self='stretch', height='500px'))"
      ]
     },
     "metadata": {},
     "output_type": "display_data"
    },
    {
     "name": "stdout",
     "output_type": "stream",
     "text": [
      "0:\tlearn: 0.6201045\ttotal: 210ms\tremaining: 10.3s\n",
      "1:\tlearn: 0.5602903\ttotal: 262ms\tremaining: 6.29s\n",
      "2:\tlearn: 0.5073153\ttotal: 286ms\tremaining: 4.47s\n",
      "3:\tlearn: 0.4544687\ttotal: 289ms\tremaining: 3.33s\n",
      "4:\tlearn: 0.4109922\ttotal: 292ms\tremaining: 2.63s\n",
      "5:\tlearn: 0.3804633\ttotal: 361ms\tremaining: 2.64s\n",
      "6:\tlearn: 0.3509765\ttotal: 422ms\tremaining: 2.59s\n",
      "7:\tlearn: 0.3234105\ttotal: 481ms\tremaining: 2.53s\n",
      "8:\tlearn: 0.3011880\ttotal: 542ms\tremaining: 2.47s\n",
      "9:\tlearn: 0.2809131\ttotal: 610ms\tremaining: 2.44s\n",
      "10:\tlearn: 0.2623447\ttotal: 675ms\tremaining: 2.39s\n",
      "11:\tlearn: 0.2462702\ttotal: 742ms\tremaining: 2.35s\n",
      "12:\tlearn: 0.2304795\ttotal: 806ms\tremaining: 2.29s\n",
      "13:\tlearn: 0.2172095\ttotal: 870ms\tremaining: 2.24s\n",
      "14:\tlearn: 0.2018561\ttotal: 922ms\tremaining: 2.15s\n",
      "15:\tlearn: 0.1918902\ttotal: 965ms\tremaining: 2.05s\n",
      "16:\tlearn: 0.1804093\ttotal: 1s\tremaining: 1.94s\n",
      "17:\tlearn: 0.1694837\ttotal: 1.04s\tremaining: 1.85s\n",
      "18:\tlearn: 0.1610749\ttotal: 1.07s\tremaining: 1.75s\n",
      "19:\tlearn: 0.1537523\ttotal: 1.13s\tremaining: 1.69s\n",
      "20:\tlearn: 0.1457497\ttotal: 1.2s\tremaining: 1.65s\n",
      "21:\tlearn: 0.1376299\ttotal: 1.24s\tremaining: 1.57s\n",
      "22:\tlearn: 0.1301170\ttotal: 1.3s\tremaining: 1.53s\n",
      "23:\tlearn: 0.1242899\ttotal: 1.36s\tremaining: 1.48s\n",
      "24:\tlearn: 0.1188194\ttotal: 1.44s\tremaining: 1.44s\n",
      "25:\tlearn: 0.1135308\ttotal: 1.49s\tremaining: 1.38s\n",
      "26:\tlearn: 0.1075439\ttotal: 1.54s\tremaining: 1.31s\n",
      "27:\tlearn: 0.1019133\ttotal: 1.56s\tremaining: 1.23s\n",
      "28:\tlearn: 0.0976030\ttotal: 1.62s\tremaining: 1.18s\n",
      "29:\tlearn: 0.0932728\ttotal: 1.66s\tremaining: 1.11s\n",
      "30:\tlearn: 0.0903580\ttotal: 1.72s\tremaining: 1.05s\n",
      "31:\tlearn: 0.0871804\ttotal: 1.78s\tremaining: 1000ms\n",
      "32:\tlearn: 0.0835840\ttotal: 1.85s\tremaining: 952ms\n",
      "33:\tlearn: 0.0807715\ttotal: 1.92s\tremaining: 904ms\n",
      "34:\tlearn: 0.0784391\ttotal: 2s\tremaining: 855ms\n",
      "35:\tlearn: 0.0759932\ttotal: 2.07s\tremaining: 805ms\n",
      "36:\tlearn: 0.0733423\ttotal: 2.14s\tremaining: 752ms\n",
      "37:\tlearn: 0.0711746\ttotal: 2.21s\tremaining: 698ms\n",
      "38:\tlearn: 0.0688637\ttotal: 2.27s\tremaining: 639ms\n",
      "39:\tlearn: 0.0665113\ttotal: 2.33s\tremaining: 582ms\n",
      "40:\tlearn: 0.0644668\ttotal: 2.39s\tremaining: 524ms\n",
      "41:\tlearn: 0.0628872\ttotal: 2.45s\tremaining: 466ms\n",
      "42:\tlearn: 0.0610163\ttotal: 2.51s\tremaining: 409ms\n",
      "43:\tlearn: 0.0592105\ttotal: 2.56s\tremaining: 349ms\n",
      "44:\tlearn: 0.0578328\ttotal: 2.63s\tremaining: 292ms\n",
      "45:\tlearn: 0.0565441\ttotal: 2.7s\tremaining: 235ms\n",
      "46:\tlearn: 0.0553618\ttotal: 2.77s\tremaining: 177ms\n",
      "47:\tlearn: 0.0539373\ttotal: 2.83s\tremaining: 118ms\n",
      "48:\tlearn: 0.0528727\ttotal: 2.89s\tremaining: 59ms\n",
      "49:\tlearn: 0.0516244\ttotal: 2.95s\tremaining: 0us\n"
     ]
    },
    {
     "data": {
      "text/plain": [
       "<catboost.core.CatBoostClassifier at 0x19895d1c520>"
      ]
     },
     "execution_count": 67,
     "metadata": {},
     "output_type": "execute_result"
    }
   ],
   "source": [
    "#importing library and building model\n",
    "from catboost import CatBoostClassifier\n",
    "catmodel=CatBoostClassifier(iterations=50, depth=12, learning_rate=0.1,)\n",
    "catmodel.fit(X,y,plot=True)"
   ]
  },
  {
   "cell_type": "code",
   "execution_count": 68,
   "id": "ea9ee42e",
   "metadata": {
    "scrolled": true
   },
   "outputs": [
    {
     "name": "stdout",
     "output_type": "stream",
     "text": [
      "0.9959910198845414\n",
      "0.9831195138419987\n"
     ]
    }
   ],
   "source": [
    "cat_train_pred = catmodel.predict(X)\n",
    "cat_test_pred = catmodel.predict(x_test)\n",
    "\n",
    "print(accuracy_score(y, cat_train_pred))\n",
    "print(accuracy_score(y_test, cat_test_pred))"
   ]
  },
  {
   "cell_type": "code",
   "execution_count": 69,
   "id": "8f4c66e6",
   "metadata": {
    "scrolled": true
   },
   "outputs": [
    {
     "name": "stdout",
     "output_type": "stream",
     "text": [
      "[[1317   20]\n",
      " [   5  139]]\n"
     ]
    },
    {
     "data": {
      "text/html": [
       "<div>\n",
       "<style scoped>\n",
       "    .dataframe tbody tr th:only-of-type {\n",
       "        vertical-align: middle;\n",
       "    }\n",
       "\n",
       "    .dataframe tbody tr th {\n",
       "        vertical-align: top;\n",
       "    }\n",
       "\n",
       "    .dataframe thead th {\n",
       "        text-align: right;\n",
       "    }\n",
       "</style>\n",
       "<table border=\"1\" class=\"dataframe\">\n",
       "  <thead>\n",
       "    <tr style=\"text-align: right;\">\n",
       "      <th></th>\n",
       "      <th>results</th>\n",
       "    </tr>\n",
       "  </thead>\n",
       "  <tbody>\n",
       "    <tr>\n",
       "      <th>acc</th>\n",
       "      <td>0.983120</td>\n",
       "    </tr>\n",
       "    <tr>\n",
       "      <th>precision</th>\n",
       "      <td>0.874214</td>\n",
       "    </tr>\n",
       "    <tr>\n",
       "      <th>recall</th>\n",
       "      <td>0.965278</td>\n",
       "    </tr>\n",
       "    <tr>\n",
       "      <th>f1_score</th>\n",
       "      <td>0.917492</td>\n",
       "    </tr>\n",
       "    <tr>\n",
       "      <th>auc</th>\n",
       "      <td>1.000000</td>\n",
       "    </tr>\n",
       "  </tbody>\n",
       "</table>\n",
       "</div>"
      ],
      "text/plain": [
       "            results\n",
       "acc        0.983120\n",
       "precision  0.874214\n",
       "recall     0.965278\n",
       "f1_score   0.917492\n",
       "auc        1.000000"
      ]
     },
     "execution_count": 69,
     "metadata": {},
     "output_type": "execute_result"
    }
   ],
   "source": [
    "print(confusion_matrix(y_test, cat_test_pred))\n",
    "fpr, tpr, thresholds = roc_curve(y_test, catmodel.predict_proba(x_test)[:, 1])\n",
    "cat_auc=auc(fpr, tpr).round(2)\n",
    "\n",
    "result_cat = pd.DataFrame([accuracy_score(y_test, cat_test_pred),\n",
    "                        precision_score(y_test, cat_test_pred),\n",
    "                        recall_score(y_test, cat_test_pred),\n",
    "                        f1_score(y_test, cat_test_pred),\n",
    "                        cat_auc])\n",
    "result_cat.index = ['acc', 'precision', 'recall', 'f1_score', 'auc']\n",
    "result_cat.columns = ['results']\n",
    "result_cat"
   ]
  },
  {
   "cell_type": "markdown",
   "id": "b73a0649",
   "metadata": {},
   "source": [
    "## Random Forest - Oversampling"
   ]
  },
  {
   "cell_type": "markdown",
   "id": "cddfc3b2",
   "metadata": {},
   "source": [
    "### GridSearch 활용\n",
    "최적의 파라미터 찾기"
   ]
  },
  {
   "cell_type": "code",
   "execution_count": 70,
   "id": "a1a5582b",
   "metadata": {},
   "outputs": [],
   "source": [
    "#performance reporting function\n",
    "\n",
    "from sklearn.model_selection import GridSearchCV \n",
    "\n",
    "def clf_performance(classifier, model_name):\n",
    "    print(model_name)\n",
    "    print('Best Score: {} +/- {}'.format(str(classifier.best_score_),\n",
    "                                         str(classifier.cv_results_['std_test_score'][classifier.best_index_])))\n",
    "    print('Best Parameters: ' + str(classifier.best_params_))"
   ]
  },
  {
   "cell_type": "code",
   "execution_count": 71,
   "id": "426e80ca",
   "metadata": {},
   "outputs": [
    {
     "name": "stdout",
     "output_type": "stream",
     "text": [
      "Random Forest\n",
      "Best Score: 0.9977551251208027 +/- 0.0007850932870098631\n",
      "Best Parameters: {'bootstrap': False, 'max_depth': 14, 'max_features': 'auto', 'min_samples_split': 2, 'n_estimators': 110}\n"
     ]
    }
   ],
   "source": [
    "rf = RandomForestClassifier(random_state = 7777)\n",
    "\n",
    "param_grid =  {'n_estimators': [110],\n",
    "                'bootstrap': [True,False], #bagging (T) vs. pasting (F)\n",
    "                 'max_depth': [14],\n",
    "                'max_features': ['auto','sqrt'],\n",
    "                 'min_samples_split': np.arange(2,10,2)\n",
    "              }\n",
    "\n",
    "clf_rf_rnd = GridSearchCV(rf, param_grid = param_grid, cv = 5, n_jobs = -1)\n",
    "best_clf_rf_rnd = clf_rf_rnd.fit(X_resampled,y_resampled)\n",
    "clf_performance(best_clf_rf_rnd,'Random Forest')"
   ]
  },
  {
   "cell_type": "markdown",
   "id": "be580059",
   "metadata": {},
   "source": [
    "### Best_Modeling- RandomForest\n",
    "위에서 찾은 파라미터 활용하여 RandomForest 모델링 설계"
   ]
  },
  {
   "cell_type": "code",
   "execution_count": 72,
   "id": "85325ebc",
   "metadata": {},
   "outputs": [
    {
     "name": "stdout",
     "output_type": "stream",
     "text": [
      "RandomForestClassifier test accuracy: 0.986495611073599\n"
     ]
    }
   ],
   "source": [
    "rf = RandomForestClassifier(random_state = 7777, bootstrap= False, max_features= 'auto', \n",
    "                            max_depth=14, min_samples_split=2, n_estimators= 110)\n",
    "rf.fit(X,y)\n",
    "y_pred_rf = rf.predict(x_test)\n",
    "\n",
    "print('RandomForestClassifier test accuracy: {}'.format(accuracy_score(y_test, y_pred_rf)))"
   ]
  },
  {
   "cell_type": "markdown",
   "id": "813e3b3f",
   "metadata": {},
   "source": [
    "위의 결과에 따라 random Forest 모델의 테스트 데이터의 정확도는 98% 임.\n",
    "Random Forest importance 확인"
   ]
  },
  {
   "cell_type": "code",
   "execution_count": 73,
   "id": "629f32cf",
   "metadata": {},
   "outputs": [
    {
     "data": {
      "image/png": "[encoded data removed]",
      "text/plain": [
       "<Figure size 864x504 with 1 Axes>"
      ]
     },
     "metadata": {
      "needs_background": "light"
     },
     "output_type": "display_data"
    }
   ],
   "source": [
    "import matplotlib.pyplot as plt\n",
    "import seaborn as sns\n",
    "%matplotlib inline\n",
    "\n",
    "plt.figure(figsize=(12,7))\n",
    "rf_importances_values = rf.feature_importances_\n",
    "rf_importances = pd.Series(rf_importances_values, index=x_train.columns)\n",
    "rd_top = rf_importances.sort_values(ascending=False)\n",
    "plt.title(\"Random Forest Importances\")\n",
    "\n",
    "sns.barplot(x=rd_top, y=rd_top.index)\n",
    "plt.show()"
   ]
  },
  {
   "cell_type": "markdown",
   "id": "cb26fba7",
   "metadata": {},
   "source": [
    "### Confusion Matrix(prdict 값)"
   ]
  },
  {
   "cell_type": "code",
   "execution_count": 74,
   "id": "75f1b75d",
   "metadata": {},
   "outputs": [],
   "source": [
    "# classification_report(y_test, y_pred_rf, target_names=['거절', '승인'])"
   ]
  },
  {
   "cell_type": "code",
   "execution_count": 75,
   "id": "28e91266",
   "metadata": {},
   "outputs": [
    {
     "name": "stdout",
     "output_type": "stream",
     "text": [
      "[[1333    4]\n",
      " [  16  128]]\n"
     ]
    },
    {
     "data": {
      "text/html": [
       "<div>\n",
       "<style scoped>\n",
       "    .dataframe tbody tr th:only-of-type {\n",
       "        vertical-align: middle;\n",
       "    }\n",
       "\n",
       "    .dataframe tbody tr th {\n",
       "        vertical-align: top;\n",
       "    }\n",
       "\n",
       "    .dataframe thead th {\n",
       "        text-align: right;\n",
       "    }\n",
       "</style>\n",
       "<table border=\"1\" class=\"dataframe\">\n",
       "  <thead>\n",
       "    <tr style=\"text-align: right;\">\n",
       "      <th></th>\n",
       "      <th>results</th>\n",
       "    </tr>\n",
       "  </thead>\n",
       "  <tbody>\n",
       "    <tr>\n",
       "      <th>acc</th>\n",
       "      <td>0.986496</td>\n",
       "    </tr>\n",
       "    <tr>\n",
       "      <th>precision</th>\n",
       "      <td>0.969697</td>\n",
       "    </tr>\n",
       "    <tr>\n",
       "      <th>recall</th>\n",
       "      <td>0.888889</td>\n",
       "    </tr>\n",
       "    <tr>\n",
       "      <th>f1_score</th>\n",
       "      <td>0.927536</td>\n",
       "    </tr>\n",
       "    <tr>\n",
       "      <th>auc</th>\n",
       "      <td>1.000000</td>\n",
       "    </tr>\n",
       "  </tbody>\n",
       "</table>\n",
       "</div>"
      ],
      "text/plain": [
       "            results\n",
       "acc        0.986496\n",
       "precision  0.969697\n",
       "recall     0.888889\n",
       "f1_score   0.927536\n",
       "auc        1.000000"
      ]
     },
     "execution_count": 75,
     "metadata": {},
     "output_type": "execute_result"
    }
   ],
   "source": [
    "print(confusion_matrix(y_test, y_pred_rf))\n",
    "fpr, tpr, thresholds = roc_curve(y_test, rf.predict_proba(x_test)[:, 1])\n",
    "rf_auc=auc(fpr, tpr).round(2)\n",
    "\n",
    "result_rf = pd.DataFrame([accuracy_score(y_test, y_pred_rf),\n",
    "                        precision_score(y_test, y_pred_rf),\n",
    "                        recall_score(y_test, y_pred_rf),\n",
    "                        f1_score(y_test, y_pred_rf),\n",
    "                        rf_auc])\n",
    "result_rf.index = ['acc', 'precision', 'recall', 'f1_score', 'auc']\n",
    "result_rf.columns = ['results']\n",
    "result_rf"
   ]
  },
  {
   "cell_type": "code",
   "execution_count": 76,
   "id": "fac04007",
   "metadata": {},
   "outputs": [
    {
     "data": {
      "image/png": "[encoded data removed]",
      "text/plain": [
       "<Figure size 288x216 with 1 Axes>"
      ]
     },
     "metadata": {
      "needs_background": "light"
     },
     "output_type": "display_data"
    }
   ],
   "source": [
    "from sklearn.metrics import confusion_matrix\n",
    "\n",
    "plt.figure(figsize=(4,3))\n",
    "sns.set(font_scale=1.4)\n",
    "\n",
    "matrix_rf = confusion_matrix(y_test.values.reshape(-1,), y_pred_rf)\n",
    "sns.heatmap(matrix_rf.T, square=True, annot=True,cbar=False, linewidths=0.2)\n",
    "\n",
    "plt.xlabel('Predicted label')\n",
    "plt.ylabel('True label')\n",
    "plt.title('Confusion Matrix for Random Forest Classifier')\n",
    "plt.show()"
   ]
  },
  {
   "cell_type": "markdown",
   "id": "e983a459",
   "metadata": {},
   "source": [
    "### ROC_curve"
   ]
  },
  {
   "cell_type": "code",
   "execution_count": 77,
   "id": "8649bb6a",
   "metadata": {},
   "outputs": [
    {
     "data": {
      "image/png": "[encoded data removed]",
      "text/plain": [
       "<Figure size 216x216 with 1 Axes>"
      ]
     },
     "metadata": {},
     "output_type": "display_data"
    }
   ],
   "source": [
    "from sklearn.metrics import roc_curve\n",
    "\n",
    "fpr, tpr, thresholds = roc_curve(y_test, rf.predict_proba(x_test)[:, 1])\n",
    "\n",
    "fig, ax = plt.subplots(figsize=(3,3))\n",
    "ax.plot(fpr, tpr)\n",
    "ax.plot([0, 1], [0, 1], transform=ax.transAxes, ls=\"-\", c=\".3\")\n",
    "\n",
    "plt.rcParams['figure.figsize'] = (2, 5)\n",
    "plt.title('ROC curve for classifier', fontweight = 20)\n",
    "plt.xlabel('False Positive Rate')\n",
    "plt.ylabel('True Positive Rate')\n",
    "plt.show()"
   ]
  },
  {
   "cell_type": "markdown",
   "id": "6553356e",
   "metadata": {},
   "source": [
    "# Result : Model Comparison"
   ]
  },
  {
   "cell_type": "code",
   "execution_count": 78,
   "id": "386f904f",
   "metadata": {},
   "outputs": [],
   "source": [
    "# 모델 결과 정리\n",
    "model_result =[]\n",
    "model_result.append(result_LR)\n",
    "model_result.append(result_knn)\n",
    "model_result.append(result_svm)\n",
    "model_result.append(result_ada)\n",
    "model_result.append(result_GBM)\n",
    "model_result.append(result_cat)\n",
    "model_result.append(result_rf)"
   ]
  },
  {
   "cell_type": "code",
   "execution_count": 79,
   "id": "231316e6",
   "metadata": {},
   "outputs": [],
   "source": [
    "final_results = pd.concat([model_result[0], \n",
    "           model_result[1],\n",
    "           model_result[2],\n",
    "           model_result[3],\n",
    "           model_result[4],\n",
    "           model_result[5],\n",
    "           model_result[6]], axis = 1)"
   ]
  },
  {
   "cell_type": "code",
   "execution_count": 80,
   "id": "68c13d4f",
   "metadata": {},
   "outputs": [],
   "source": [
    "final_results.columns = ['LogisticRegression','KNN', 'SVM', 'AdaBoostClassifier','GradientBoostingClassifier' , 'CatBoostClassifier', 'RandomForest']"
   ]
  },
  {
   "cell_type": "code",
   "execution_count": 81,
   "id": "7619ad3f",
   "metadata": {},
   "outputs": [
    {
     "data": {
      "text/html": [
       "<div>\n",
       "<style scoped>\n",
       "    .dataframe tbody tr th:only-of-type {\n",
       "        vertical-align: middle;\n",
       "    }\n",
       "\n",
       "    .dataframe tbody tr th {\n",
       "        vertical-align: top;\n",
       "    }\n",
       "\n",
       "    .dataframe thead th {\n",
       "        text-align: right;\n",
       "    }\n",
       "</style>\n",
       "<table border=\"1\" class=\"dataframe\">\n",
       "  <thead>\n",
       "    <tr style=\"text-align: right;\">\n",
       "      <th></th>\n",
       "      <th>LogisticRegression</th>\n",
       "      <th>KNN</th>\n",
       "      <th>SVM</th>\n",
       "      <th>AdaBoostClassifier</th>\n",
       "      <th>GradientBoostingClassifier</th>\n",
       "      <th>CatBoostClassifier</th>\n",
       "      <th>RandomForest</th>\n",
       "    </tr>\n",
       "  </thead>\n",
       "  <tbody>\n",
       "    <tr>\n",
       "      <th>acc</th>\n",
       "      <td>0.902093</td>\n",
       "      <td>0.969615</td>\n",
       "      <td>0.968940</td>\n",
       "      <td>0.984470</td>\n",
       "      <td>0.982444</td>\n",
       "      <td>0.983120</td>\n",
       "      <td>0.986496</td>\n",
       "    </tr>\n",
       "    <tr>\n",
       "      <th>precision</th>\n",
       "      <td>0.498099</td>\n",
       "      <td>0.923077</td>\n",
       "      <td>0.775281</td>\n",
       "      <td>0.923077</td>\n",
       "      <td>0.864198</td>\n",
       "      <td>0.874214</td>\n",
       "      <td>0.969697</td>\n",
       "    </tr>\n",
       "    <tr>\n",
       "      <th>recall</th>\n",
       "      <td>0.909722</td>\n",
       "      <td>0.750000</td>\n",
       "      <td>0.958333</td>\n",
       "      <td>0.916667</td>\n",
       "      <td>0.972222</td>\n",
       "      <td>0.965278</td>\n",
       "      <td>0.888889</td>\n",
       "    </tr>\n",
       "    <tr>\n",
       "      <th>f1_score</th>\n",
       "      <td>0.643735</td>\n",
       "      <td>0.827586</td>\n",
       "      <td>0.857143</td>\n",
       "      <td>0.919861</td>\n",
       "      <td>0.915033</td>\n",
       "      <td>0.917492</td>\n",
       "      <td>0.927536</td>\n",
       "    </tr>\n",
       "    <tr>\n",
       "      <th>auc</th>\n",
       "      <td>0.970000</td>\n",
       "      <td>0.870000</td>\n",
       "      <td>0.990000</td>\n",
       "      <td>1.000000</td>\n",
       "      <td>1.000000</td>\n",
       "      <td>1.000000</td>\n",
       "      <td>1.000000</td>\n",
       "    </tr>\n",
       "  </tbody>\n",
       "</table>\n",
       "</div>"
      ],
      "text/plain": [
       "           LogisticRegression       KNN       SVM  AdaBoostClassifier  \\\n",
       "acc                  0.902093  0.969615  0.968940            0.984470   \n",
       "precision            0.498099  0.923077  0.775281            0.923077   \n",
       "recall               0.909722  0.750000  0.958333            0.916667   \n",
       "f1_score             0.643735  0.827586  0.857143            0.919861   \n",
       "auc                  0.970000  0.870000  0.990000            1.000000   \n",
       "\n",
       "           GradientBoostingClassifier  CatBoostClassifier  RandomForest  \n",
       "acc                          0.982444            0.983120      0.986496  \n",
       "precision                    0.864198            0.874214      0.969697  \n",
       "recall                       0.972222            0.965278      0.888889  \n",
       "f1_score                     0.915033            0.917492      0.927536  \n",
       "auc                          1.000000            1.000000      1.000000  "
      ]
     },
     "execution_count": 81,
     "metadata": {},
     "output_type": "execute_result"
    }
   ],
   "source": [
    "final_results"
   ]
  },
  {
   "cell_type": "markdown",
   "id": "92cec14a",
   "metadata": {},
   "source": [
    "# Model Explanation"
   ]
  },
  {
   "cell_type": "markdown",
   "id": "d93510f0",
   "metadata": {},
   "source": [
    "## Eli5 Values"
   ]
  },
  {
   "cell_type": "code",
   "execution_count": 82,
   "id": "e4d10ea4",
   "metadata": {},
   "outputs": [
    {
     "data": {
      "text/html": [
       "\n",
       "    <style>\n",
       "    table.eli5-weights tr:hover {\n",
       "        filter: brightness(85%);\n",
       "    }\n",
       "</style>\n",
       "\n",
       "\n",
       "\n",
       "    \n",
       "\n",
       "    \n",
       "\n",
       "    \n",
       "\n",
       "    \n",
       "\n",
       "    \n",
       "\n",
       "    \n",
       "\n",
       "\n",
       "    \n",
       "\n",
       "    \n",
       "\n",
       "    \n",
       "\n",
       "    \n",
       "\n",
       "    \n",
       "\n",
       "    \n",
       "\n",
       "\n",
       "    \n",
       "\n",
       "    \n",
       "\n",
       "    \n",
       "\n",
       "    \n",
       "\n",
       "    \n",
       "        <table class=\"eli5-weights eli5-feature-importances\" style=\"border-collapse: collapse; border: none; margin-top: 0em; table-layout: auto;\">\n",
       "    <thead>\n",
       "    <tr style=\"border: none;\">\n",
       "        <th style=\"padding: 0 1em 0 0.5em; text-align: right; border: none;\">Weight</th>\n",
       "        <th style=\"padding: 0 0.5em 0 0.5em; text-align: left; border: none;\">Feature</th>\n",
       "    </tr>\n",
       "    </thead>\n",
       "    <tbody>\n",
       "    \n",
       "        <tr style=\"background-color: hsl(120, 100.00%, 80.00%); border: none;\">\n",
       "            <td style=\"padding: 0 1em 0 0.5em; text-align: right; border: none;\">\n",
       "                0.3840\n",
       "                \n",
       "                    &plusmn; 0.0110\n",
       "                \n",
       "            </td>\n",
       "            <td style=\"padding: 0 0.5em 0 0.5em; text-align: left; border: none;\">\n",
       "                Income\n",
       "            </td>\n",
       "        </tr>\n",
       "    \n",
       "        <tr style=\"background-color: hsl(120, 100.00%, 91.37%); border: none;\">\n",
       "            <td style=\"padding: 0 1em 0 0.5em; text-align: right; border: none;\">\n",
       "                0.1155\n",
       "                \n",
       "                    &plusmn; 0.0054\n",
       "                \n",
       "            </td>\n",
       "            <td style=\"padding: 0 0.5em 0 0.5em; text-align: left; border: none;\">\n",
       "                Education\n",
       "            </td>\n",
       "        </tr>\n",
       "    \n",
       "        <tr style=\"background-color: hsl(120, 100.00%, 94.97%); border: none;\">\n",
       "            <td style=\"padding: 0 1em 0 0.5em; text-align: right; border: none;\">\n",
       "                0.0534\n",
       "                \n",
       "                    &plusmn; 0.0016\n",
       "                \n",
       "            </td>\n",
       "            <td style=\"padding: 0 0.5em 0 0.5em; text-align: left; border: none;\">\n",
       "                CCAvg\n",
       "            </td>\n",
       "        </tr>\n",
       "    \n",
       "        <tr style=\"background-color: hsl(120, 100.00%, 95.28%); border: none;\">\n",
       "            <td style=\"padding: 0 1em 0 0.5em; text-align: right; border: none;\">\n",
       "                0.0489\n",
       "                \n",
       "                    &plusmn; 0.0036\n",
       "                \n",
       "            </td>\n",
       "            <td style=\"padding: 0 0.5em 0 0.5em; text-align: left; border: none;\">\n",
       "                Family_3\n",
       "            </td>\n",
       "        </tr>\n",
       "    \n",
       "        <tr style=\"background-color: hsl(120, 100.00%, 95.77%); border: none;\">\n",
       "            <td style=\"padding: 0 1em 0 0.5em; text-align: right; border: none;\">\n",
       "                0.0418\n",
       "                \n",
       "                    &plusmn; 0.0049\n",
       "                \n",
       "            </td>\n",
       "            <td style=\"padding: 0 0.5em 0 0.5em; text-align: left; border: none;\">\n",
       "                Family_4\n",
       "            </td>\n",
       "        </tr>\n",
       "    \n",
       "        <tr style=\"background-color: hsl(120, 100.00%, 97.81%); border: none;\">\n",
       "            <td style=\"padding: 0 1em 0 0.5em; text-align: right; border: none;\">\n",
       "                0.0163\n",
       "                \n",
       "                    &plusmn; 0.0012\n",
       "                \n",
       "            </td>\n",
       "            <td style=\"padding: 0 0.5em 0 0.5em; text-align: left; border: none;\">\n",
       "                CD Account\n",
       "            </td>\n",
       "        </tr>\n",
       "    \n",
       "        <tr style=\"background-color: hsl(120, 100.00%, 98.58%); border: none;\">\n",
       "            <td style=\"padding: 0 1em 0 0.5em; text-align: right; border: none;\">\n",
       "                0.0088\n",
       "                \n",
       "                    &plusmn; 0.0013\n",
       "                \n",
       "            </td>\n",
       "            <td style=\"padding: 0 0.5em 0 0.5em; text-align: left; border: none;\">\n",
       "                Experience\n",
       "            </td>\n",
       "        </tr>\n",
       "    \n",
       "        <tr style=\"background-color: hsl(120, 100.00%, 98.61%); border: none;\">\n",
       "            <td style=\"padding: 0 1em 0 0.5em; text-align: right; border: none;\">\n",
       "                0.0085\n",
       "                \n",
       "                    &plusmn; 0.0011\n",
       "                \n",
       "            </td>\n",
       "            <td style=\"padding: 0 0.5em 0 0.5em; text-align: left; border: none;\">\n",
       "                Family_2\n",
       "            </td>\n",
       "        </tr>\n",
       "    \n",
       "        <tr style=\"background-color: hsl(120, 100.00%, 99.40%); border: none;\">\n",
       "            <td style=\"padding: 0 1em 0 0.5em; text-align: right; border: none;\">\n",
       "                0.0025\n",
       "                \n",
       "                    &plusmn; 0.0007\n",
       "                \n",
       "            </td>\n",
       "            <td style=\"padding: 0 0.5em 0 0.5em; text-align: left; border: none;\">\n",
       "                CreditCard\n",
       "            </td>\n",
       "        </tr>\n",
       "    \n",
       "        <tr style=\"background-color: hsl(120, 100.00%, 99.50%); border: none;\">\n",
       "            <td style=\"padding: 0 1em 0 0.5em; text-align: right; border: none;\">\n",
       "                0.0020\n",
       "                \n",
       "                    &plusmn; 0.0005\n",
       "                \n",
       "            </td>\n",
       "            <td style=\"padding: 0 0.5em 0 0.5em; text-align: left; border: none;\">\n",
       "                Online\n",
       "            </td>\n",
       "        </tr>\n",
       "    \n",
       "        <tr style=\"background-color: hsl(120, 100.00%, 99.95%); border: none;\">\n",
       "            <td style=\"padding: 0 1em 0 0.5em; text-align: right; border: none;\">\n",
       "                0.0001\n",
       "                \n",
       "                    &plusmn; 0.0002\n",
       "                \n",
       "            </td>\n",
       "            <td style=\"padding: 0 0.5em 0 0.5em; text-align: left; border: none;\">\n",
       "                Mortgage\n",
       "            </td>\n",
       "        </tr>\n",
       "    \n",
       "        <tr style=\"background-color: hsl(0, 100.00%, 100.00%); border: none;\">\n",
       "            <td style=\"padding: 0 1em 0 0.5em; text-align: right; border: none;\">\n",
       "                0\n",
       "                \n",
       "                    &plusmn; 0.0000\n",
       "                \n",
       "            </td>\n",
       "            <td style=\"padding: 0 0.5em 0 0.5em; text-align: left; border: none;\">\n",
       "                Securities Account\n",
       "            </td>\n",
       "        </tr>\n",
       "    \n",
       "    \n",
       "    </tbody>\n",
       "</table>\n",
       "    \n",
       "\n",
       "    \n",
       "\n",
       "\n",
       "    \n",
       "\n",
       "    \n",
       "\n",
       "    \n",
       "\n",
       "    \n",
       "\n",
       "    \n",
       "\n",
       "    \n",
       "\n",
       "\n",
       "\n"
      ],
      "text/plain": [
       "<IPython.core.display.HTML object>"
      ]
     },
     "execution_count": 82,
     "metadata": {},
     "output_type": "execute_result"
    }
   ],
   "source": [
    "import eli5 \n",
    "from eli5.sklearn import PermutationImportance\n",
    "\n",
    "#랜덤포레스트 기준\n",
    "perm_rf = PermutationImportance(rf, random_state = 7777).fit(X, y)\n",
    "eli5.show_weights(perm_rf, feature_names = x_test.columns.tolist())"
   ]
  }
 ],
 "metadata": {
  "kernelspec": {
   "display_name": "Python 3",
   "language": "python",
   "name": "python3"
  },
  "language_info": {
   "codemirror_mode": {
    "name": "ipython",
    "version": 3
   },
   "file_extension": ".py",
   "mimetype": "text/x-python",
   "name": "python",
   "nbconvert_exporter": "python",
   "pygments_lexer": "ipython3",
   "version": "3.8.8"
  },
  "toc": {
   "base_numbering": 1,
   "nav_menu": {},
   "number_sections": true,
   "sideBar": true,
   "skip_h1_title": false,
   "title_cell": "Table of Contents",
   "title_sidebar": "Contents",
   "toc_cell": false,
   "toc_position": {},
   "toc_section_display": true,
   "toc_window_display": true
  },
  "varInspector": {
   "cols": {
    "lenName": 16,
    "lenType": 16,
    "lenVar": 40
   },
   "kernels_config": {
    "python": {
     "delete_cmd_postfix": "",
     "delete_cmd_prefix": "del ",
     "library": "var_list.py",
     "varRefreshCmd": "print(var_dic_list())"
    },
    "r": {
     "delete_cmd_postfix": ") ",
     "delete_cmd_prefix": "rm(",
     "library": "var_list.r",
     "varRefreshCmd": "cat(var_dic_list()) "
    }
   },
   "types_to_exclude": [
    "module",
    "function",
    "builtin_function_or_method",
    "instance",
    "_Feature"
   ],
   "window_display": false
  }
 },
 "nbformat": 4,
 "nbformat_minor": 5
}
